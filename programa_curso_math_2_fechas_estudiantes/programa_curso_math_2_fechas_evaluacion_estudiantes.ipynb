{
 "cells": [
  {
   "cell_type": "markdown",
   "id": "6c7f7533",
   "metadata": {
    "slideshow": {
     "slide_type": "slide"
    }
   },
   "source": [
    "<table align=\"left\">\n",
    "  <td>\n",
    "    <a href=\"https://colab.research.google.com/github/marco-canas/11_math_II/blob/main/1_numpy.ipynb\" target=\"_parent\"><img src=\"https://colab.research.google.com/assets/colab-badge.svg\" alt=\"Open In Colab\"/></a>\n",
    "  </td>\n",
    "</table>"
   ]
  },
  {
   "cell_type": "markdown",
   "id": "6ddebb08",
   "metadata": {
    "slideshow": {
     "slide_type": "slide"
    }
   },
   "source": [
    "## [Video de apoyo a la descripción del curso de Matemáticas II]()"
   ]
  },
  {
   "cell_type": "markdown",
   "id": "306e8a43",
   "metadata": {
    "slideshow": {
     "slide_type": "slide"
    }
   },
   "source": [
    "# Programa del curso de matemáticas II calendarizado por fechas y contenidos y lista de estudiantes a los que les imparte el curso"
   ]
  },
  {
   "cell_type": "markdown",
   "id": "bb12751c",
   "metadata": {
    "slideshow": {
     "slide_type": "slide"
    }
   },
   "source": [
    "Tres unidades para el curso\n",
    "\n",
    "1. Geometría vectorial y álgebra lineal ([Numpy](https://github.com/ageron/handson-ml3/blob/main/tools_numpy.ipynb) y Algebra Lineal de Aurelien Geron)\n",
    "2. Cálculo vectorial \n",
    "3. Ecuaciones diferenciales "
   ]
  },
  {
   "cell_type": "markdown",
   "id": "19a7182d",
   "metadata": {
    "slideshow": {
     "slide_type": "slide"
    }
   },
   "source": [
    "# Discriminación por clases"
   ]
  },
  {
   "cell_type": "markdown",
   "id": "c15355d6",
   "metadata": {
    "slideshow": {
     "slide_type": "slide"
    }
   },
   "source": []
  },
  {
   "cell_type": "markdown",
   "id": "afcf22d7",
   "metadata": {
    "slideshow": {
     "slide_type": "slide"
    }
   },
   "source": [
    "# Evaluación"
   ]
  },
  {
   "cell_type": "markdown",
   "id": "8fe8b0eb",
   "metadata": {
    "slideshow": {
     "slide_type": "slide"
    }
   },
   "source": [
    "Marzo 13 Lunes: \n",
    "\n",
    "1. Norma de vectores: (2 a 4 de la tarde) \n"
   ]
  },
  {
   "cell_type": "markdown",
   "id": "d4428b38",
   "metadata": {
    "slideshow": {
     "slide_type": "slide"
    }
   },
   "source": [
    "Marzo 17 Viernes:  \n",
    "\n",
    "2. Operaciones con vectores (2 a 4 de la tarde). "
   ]
  },
  {
   "cell_type": "markdown",
   "id": "2b90f01b",
   "metadata": {
    "slideshow": {
     "slide_type": "slide"
    }
   },
   "source": [
    "Marzo 18 Sábado:\n",
    "\n",
    "3. "
   ]
  },
  {
   "cell_type": "code",
   "execution_count": null,
   "id": "7c0dcf63",
   "metadata": {
    "slideshow": {
     "slide_type": "slide"
    }
   },
   "outputs": [],
   "source": []
  },
  {
   "cell_type": "markdown",
   "id": "27fff44c",
   "metadata": {
    "slideshow": {
     "slide_type": "slide"
    }
   },
   "source": [
    "# Evaluación"
   ]
  },
  {
   "cell_type": "markdown",
   "id": "1849c6c6",
   "metadata": {
    "slideshow": {
     "slide_type": "slide"
    }
   },
   "source": [
    "1. Parcial 1: Sábado 1 de abril de 2023. \n",
    "2. "
   ]
  },
  {
   "cell_type": "code",
   "execution_count": null,
   "id": "978ff80b",
   "metadata": {
    "slideshow": {
     "slide_type": "slide"
    }
   },
   "outputs": [],
   "source": []
  },
  {
   "cell_type": "markdown",
   "id": "5c86fe23",
   "metadata": {
    "slideshow": {
     "slide_type": "slide"
    }
   },
   "source": [
    "# Estudiantes que participan de este curso\n",
    "\n",
    "1. Jerson Javier Vergara Ortiz\n",
    "2. Yalidys Cerpa Cardoso\n",
    "3. María Isabel Polo Pacheco\n",
    "4. Janis Zuñiga Ortega.\n",
    "5. Esneider Montes Hicapié.\n",
    "6. María Alejandra Anaya Perez: alejandra.anaya@udea.edu.co\n"
   ]
  },
  {
   "cell_type": "code",
   "execution_count": null,
   "id": "2d53d37f",
   "metadata": {
    "slideshow": {
     "slide_type": "slide"
    }
   },
   "outputs": [],
   "source": []
  },
  {
   "cell_type": "code",
   "execution_count": null,
   "id": "cd5d39f1",
   "metadata": {
    "slideshow": {
     "slide_type": "slide"
    }
   },
   "outputs": [],
   "source": []
  },
  {
   "cell_type": "code",
   "execution_count": null,
   "id": "be46a479",
   "metadata": {
    "slideshow": {
     "slide_type": "slide"
    }
   },
   "outputs": [],
   "source": []
  },
  {
   "cell_type": "code",
   "execution_count": null,
   "id": "2e485a12",
   "metadata": {},
   "outputs": [],
   "source": []
  },
  {
   "cell_type": "code",
   "execution_count": null,
   "id": "d7f984f2",
   "metadata": {},
   "outputs": [],
   "source": []
  },
  {
   "cell_type": "code",
   "execution_count": null,
   "id": "9b4f846a",
   "metadata": {},
   "outputs": [],
   "source": []
  },
  {
   "cell_type": "code",
   "execution_count": null,
   "id": "c1ecf013",
   "metadata": {},
   "outputs": [],
   "source": []
  },
  {
   "cell_type": "code",
   "execution_count": null,
   "id": "0138cd4d",
   "metadata": {},
   "outputs": [],
   "source": []
  },
  {
   "cell_type": "code",
   "execution_count": null,
   "id": "99c554bf",
   "metadata": {},
   "outputs": [],
   "source": []
  }
 ],
 "metadata": {
  "celltoolbar": "Slideshow",
  "kernelspec": {
   "display_name": "Python 3 (ipykernel)",
   "language": "python",
   "name": "python3"
  },
  "language_info": {
   "codemirror_mode": {
    "name": "ipython",
    "version": 3
   },
   "file_extension": ".py",
   "mimetype": "text/x-python",
   "name": "python",
   "nbconvert_exporter": "python",
   "pygments_lexer": "ipython3",
   "version": "3.9.13"
  },
  "rise": {
   "enable_chalkboard": true,
   "theme": "sky"
  }
 },
 "nbformat": 4,
 "nbformat_minor": 5
}
