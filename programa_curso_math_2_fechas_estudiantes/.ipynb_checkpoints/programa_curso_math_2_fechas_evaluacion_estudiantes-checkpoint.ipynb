{
 "cells": [
  {
   "cell_type": "markdown",
   "id": "13e11d37",
   "metadata": {
    "slideshow": {
     "slide_type": "slide"
    }
   },
   "source": [
    "<table align=\"left\">\n",
    "  <td>\n",
    "    <a href=\"https://colab.research.google.com/github/marco-canas/11_math_II/blob/main/1_numpy.ipynb\" target=\"_parent\"><img src=\"https://colab.research.google.com/assets/colab-badge.svg\" alt=\"Open In Colab\"/></a>\n",
    "  </td>\n",
    "</table>"
   ]
  },
  {
   "cell_type": "markdown",
   "id": "9cf683bd",
   "metadata": {
    "slideshow": {
     "slide_type": "slide"
    }
   },
   "source": [
    "## [Video de apoyo a la descripción del curso de Matemáticas II]()"
   ]
  },
  {
   "cell_type": "markdown",
   "id": "b7279529",
   "metadata": {
    "slideshow": {
     "slide_type": "slide"
    }
   },
   "source": [
    "# Programa del curso de matemáticas II calendarizado por fechas y contenidos y lista de estudiantes a los que les imparte el curso"
   ]
  },
  {
   "cell_type": "markdown",
   "id": "77aea2d5",
   "metadata": {
    "slideshow": {
     "slide_type": "slide"
    }
   },
   "source": [
    "Tres unidades para el curso\n",
    "\n",
    "1. Geometría vectorial y álgebra lineal ([Numpy](https://github.com/ageron/handson-ml3/blob/main/tools_numpy.ipynb) y Algebra Lineal de Aurelien Geron)\n",
    "2. Cálculo vectorial \n",
    "3. Ecuaciones diferenciales "
   ]
  },
  {
   "cell_type": "markdown",
   "id": "407c0f45",
   "metadata": {
    "slideshow": {
     "slide_type": "slide"
    }
   },
   "source": [
    "# Discriminación por clases"
   ]
  },
  {
   "cell_type": "markdown",
   "id": "4f2052bf",
   "metadata": {
    "slideshow": {
     "slide_type": "slide"
    }
   },
   "source": []
  },
  {
   "cell_type": "markdown",
   "id": "248f68f9",
   "metadata": {
    "slideshow": {
     "slide_type": "slide"
    }
   },
   "source": [
    "# Evaluación"
   ]
  },
  {
   "cell_type": "markdown",
   "id": "8d91c3f3",
   "metadata": {
    "slideshow": {
     "slide_type": "slide"
    }
   },
   "source": [
    "Marzo 13 Lunes: \n",
    "\n",
    "1. Norma de vectores: (2 a 4 de la tarde) \n"
   ]
  },
  {
   "cell_type": "markdown",
   "id": "bae2e8f9",
   "metadata": {
    "slideshow": {
     "slide_type": "slide"
    }
   },
   "source": [
    "Marzo 17 Viernes:  \n",
    "\n",
    "2. Operaciones con vectores (2 a 4 de la tarde). "
   ]
  },
  {
   "cell_type": "markdown",
   "id": "d9ab99d0",
   "metadata": {
    "slideshow": {
     "slide_type": "slide"
    }
   },
   "source": [
    "Marzo 18 Sábado:\n",
    "\n",
    "3. "
   ]
  },
  {
   "cell_type": "code",
   "execution_count": null,
   "id": "ced1816e",
   "metadata": {
    "slideshow": {
     "slide_type": "slide"
    }
   },
   "outputs": [],
   "source": []
  },
  {
   "cell_type": "markdown",
   "id": "2b7b908e",
   "metadata": {
    "slideshow": {
     "slide_type": "slide"
    }
   },
   "source": [
    "# Evaluación"
   ]
  },
  {
   "cell_type": "markdown",
   "id": "f2b16882",
   "metadata": {
    "slideshow": {
     "slide_type": "slide"
    }
   },
   "source": [
    "1. Parcial 1: Sábado 1 de abril de 2023. \n",
    "2. Parcial 2: sábado 22 de abril de 2023. \n",
    "3. Parcial 3: sábado 13 de mayo de 2023.  \n",
    "4. Quiz 1: sábado 25 de abril de 2023. \n"
   ]
  },
  {
   "cell_type": "code",
   "execution_count": null,
   "id": "285c9278",
   "metadata": {
    "slideshow": {
     "slide_type": "slide"
    }
   },
   "outputs": [],
   "source": []
  },
  {
   "cell_type": "markdown",
   "id": "e8411790",
   "metadata": {
    "slideshow": {
     "slide_type": "slide"
    }
   },
   "source": [
    "# Estudiantes que participan de este curso\n",
    "\n",
    "1. Jerson Javier Vergara Ortiz\n",
    "2. Yalidys Cerpa Cardoso\n",
    "3. María Isabel Polo Pacheco\n",
    "4. Janis Zuñiga Ortega.\n",
    "5. Esneider Montes Hicapié.\n",
    "6. María Alejandra Anaya Perez: alejandra.anaya@udea.edu.co\n"
   ]
  },
  {
   "cell_type": "code",
   "execution_count": null,
   "id": "9502bb57",
   "metadata": {
    "slideshow": {
     "slide_type": "slide"
    }
   },
   "outputs": [],
   "source": []
  },
  {
   "cell_type": "code",
   "execution_count": null,
   "id": "a5936c3c",
   "metadata": {
    "slideshow": {
     "slide_type": "slide"
    }
   },
   "outputs": [],
   "source": []
  },
  {
   "cell_type": "code",
   "execution_count": null,
   "id": "b052b887",
   "metadata": {
    "slideshow": {
     "slide_type": "slide"
    }
   },
   "outputs": [],
   "source": []
  },
  {
   "cell_type": "code",
   "execution_count": null,
   "id": "9df0b212",
   "metadata": {},
   "outputs": [],
   "source": []
  },
  {
   "cell_type": "code",
   "execution_count": null,
   "id": "7995365f",
   "metadata": {},
   "outputs": [],
   "source": []
  },
  {
   "cell_type": "code",
   "execution_count": null,
   "id": "6aa47639",
   "metadata": {},
   "outputs": [],
   "source": []
  },
  {
   "cell_type": "code",
   "execution_count": null,
   "id": "fdc30a95",
   "metadata": {},
   "outputs": [],
   "source": []
  },
  {
   "cell_type": "code",
   "execution_count": null,
   "id": "c620daf3",
   "metadata": {},
   "outputs": [],
   "source": []
  },
  {
   "cell_type": "code",
   "execution_count": null,
   "id": "76d530d9",
   "metadata": {},
   "outputs": [],
   "source": []
  }
 ],
 "metadata": {
  "celltoolbar": "Slideshow",
  "kernelspec": {
   "display_name": "Python 3 (ipykernel)",
   "language": "python",
   "name": "python3"
  },
  "language_info": {
   "codemirror_mode": {
    "name": "ipython",
    "version": 3
   },
   "file_extension": ".py",
   "mimetype": "text/x-python",
   "name": "python",
   "nbconvert_exporter": "python",
   "pygments_lexer": "ipython3",
   "version": "3.9.13"
  },
  "rise": {
   "enable_chalkboard": true,
   "theme": "sky"
  }
 },
 "nbformat": 4,
 "nbformat_minor": 5
}
