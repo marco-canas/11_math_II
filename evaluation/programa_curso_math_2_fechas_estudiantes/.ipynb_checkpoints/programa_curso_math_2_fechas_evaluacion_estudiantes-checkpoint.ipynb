{
 "cells": [
  {
   "cell_type": "markdown",
   "id": "1c099449",
   "metadata": {
    "slideshow": {
     "slide_type": "slide"
    }
   },
   "source": [
    "<table align=\"left\">\n",
    "  <td>\n",
    "    <a href=\"https://colab.research.google.com/github/marco-canas/11_math_II/blob/main/1_numpy.ipynb\" target=\"_parent\"><img src=\"https://colab.research.google.com/assets/colab-badge.svg\" alt=\"Open In Colab\"/></a>\n",
    "  </td>\n",
    "</table>"
   ]
  },
  {
   "cell_type": "markdown",
   "id": "9d258d09",
   "metadata": {
    "slideshow": {
     "slide_type": "slide"
    }
   },
   "source": [
    "## [Video de apoyo a la descripción del curso de Matemáticas II]()"
   ]
  },
  {
   "cell_type": "markdown",
   "id": "92465103",
   "metadata": {
    "slideshow": {
     "slide_type": "slide"
    }
   },
   "source": [
    "# Programa del curso de matemáticas II calendarizado por fechas y contenidos y lista de estudiantes a los que les imparte el curso"
   ]
  },
  {
   "cell_type": "markdown",
   "id": "a752a8c9",
   "metadata": {
    "slideshow": {
     "slide_type": "slide"
    }
   },
   "source": [
    "Tres unidades para el curso\n",
    "\n",
    "1. Geometría vectorial y álgebra lineal ([Numpy](https://github.com/ageron/handson-ml3/blob/main/tools_numpy.ipynb) y Algebra Lineal de Aurelien Geron)\n",
    "2. Cálculo vectorial \n",
    "3. Ecuaciones diferenciales "
   ]
  },
  {
   "cell_type": "markdown",
   "id": "76d5e648",
   "metadata": {
    "slideshow": {
     "slide_type": "slide"
    }
   },
   "source": [
    "# Discriminación por clases"
   ]
  },
  {
   "cell_type": "markdown",
   "id": "fc944c55",
   "metadata": {
    "slideshow": {
     "slide_type": "slide"
    }
   },
   "source": []
  },
  {
   "cell_type": "markdown",
   "id": "871f0222",
   "metadata": {
    "slideshow": {
     "slide_type": "slide"
    }
   },
   "source": [
    "# Evaluación"
   ]
  },
  {
   "cell_type": "markdown",
   "id": "763e377a",
   "metadata": {
    "slideshow": {
     "slide_type": "slide"
    }
   },
   "source": [
    "Marzo 13 Lunes: \n",
    "\n",
    "1. Norma de vectores: (2 a 4 de la tarde) \n"
   ]
  },
  {
   "cell_type": "markdown",
   "id": "5d0a50d4",
   "metadata": {
    "slideshow": {
     "slide_type": "slide"
    }
   },
   "source": [
    "Marzo 17 Viernes:  \n",
    "\n",
    "2. Operaciones con vectores (2 a 4 de la tarde). "
   ]
  },
  {
   "cell_type": "markdown",
   "id": "8f0f8423",
   "metadata": {
    "slideshow": {
     "slide_type": "slide"
    }
   },
   "source": [
    "Marzo 18 Sábado:\n",
    "\n",
    "3. producto escalar. "
   ]
  },
  {
   "cell_type": "code",
   "execution_count": null,
   "id": "8a59e82d",
   "metadata": {
    "slideshow": {
     "slide_type": "slide"
    }
   },
   "outputs": [],
   "source": []
  },
  {
   "cell_type": "code",
   "execution_count": null,
   "id": "b19d50f3",
   "metadata": {},
   "outputs": [],
   "source": []
  },
  {
   "cell_type": "code",
   "execution_count": null,
   "id": "36198c39",
   "metadata": {},
   "outputs": [],
   "source": []
  },
  {
   "cell_type": "markdown",
   "id": "39702d20",
   "metadata": {
    "slideshow": {
     "slide_type": "slide"
    }
   },
   "source": [
    "# Evaluación"
   ]
  },
  {
   "cell_type": "markdown",
   "id": "363f2977",
   "metadata": {
    "slideshow": {
     "slide_type": "slide"
    }
   },
   "source": [
    "1. Parcial 1: Sábado 1 de abril de 2023. \n",
    "2. Parcial 2: sábado 22 de abril de 2023. \n",
    "3. Parcial 3: sábado 13 de mayo de 2023.  \n",
    "4. Quiz 1: sábado 25 de abril de 2023. \n"
   ]
  },
  {
   "cell_type": "code",
   "execution_count": null,
   "id": "618111fb",
   "metadata": {
    "slideshow": {
     "slide_type": "slide"
    }
   },
   "outputs": [],
   "source": []
  },
  {
   "cell_type": "markdown",
   "id": "4d8a6b79",
   "metadata": {
    "slideshow": {
     "slide_type": "slide"
    }
   },
   "source": [
    "# Estudiantes que participan de este curso\n",
    "\n",
    "1. Jerson Javier Vergara Ortiz\n",
    "2. Yalidys Cerpa Cardoso\n",
    "3. María Isabel Polo Pacheco\n",
    "4. Janis Zuñiga Ortega.\n",
    "5. Esneider Montes Hicapié.\n",
    "6. María Alejandra Anaya Perez: alejandra.anaya@udea.edu.co\n"
   ]
  },
  {
   "cell_type": "code",
   "execution_count": null,
   "id": "116a16e8",
   "metadata": {
    "slideshow": {
     "slide_type": "slide"
    }
   },
   "outputs": [],
   "source": []
  },
  {
   "cell_type": "code",
   "execution_count": null,
   "id": "b0eff6e1",
   "metadata": {
    "slideshow": {
     "slide_type": "slide"
    }
   },
   "outputs": [],
   "source": []
  },
  {
   "cell_type": "code",
   "execution_count": null,
   "id": "7f597bb8",
   "metadata": {
    "slideshow": {
     "slide_type": "slide"
    }
   },
   "outputs": [],
   "source": []
  },
  {
   "cell_type": "code",
   "execution_count": null,
   "id": "861f4630",
   "metadata": {},
   "outputs": [],
   "source": []
  },
  {
   "cell_type": "code",
   "execution_count": null,
   "id": "6f8f16d7",
   "metadata": {},
   "outputs": [],
   "source": []
  },
  {
   "cell_type": "code",
   "execution_count": null,
   "id": "c7c5b3ba",
   "metadata": {},
   "outputs": [],
   "source": []
  },
  {
   "cell_type": "code",
   "execution_count": null,
   "id": "144232ad",
   "metadata": {},
   "outputs": [],
   "source": []
  },
  {
   "cell_type": "code",
   "execution_count": null,
   "id": "5755e221",
   "metadata": {},
   "outputs": [],
   "source": []
  },
  {
   "cell_type": "code",
   "execution_count": null,
   "id": "1a4e0cee",
   "metadata": {},
   "outputs": [],
   "source": []
  }
 ],
 "metadata": {
  "celltoolbar": "Slideshow",
  "kernelspec": {
   "display_name": "Python 3 (ipykernel)",
   "language": "python",
   "name": "python3"
  },
  "language_info": {
   "codemirror_mode": {
    "name": "ipython",
    "version": 3
   },
   "file_extension": ".py",
   "mimetype": "text/x-python",
   "name": "python",
   "nbconvert_exporter": "python",
   "pygments_lexer": "ipython3",
   "version": "3.9.13"
  },
  "rise": {
   "enable_chalkboard": true,
   "theme": "sky"
  }
 },
 "nbformat": 4,
 "nbformat_minor": 5
}
