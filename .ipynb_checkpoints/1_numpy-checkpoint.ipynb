{
 "cells": [
  {
   "cell_type": "markdown",
   "metadata": {
    "id": "5SWkMn_Bmdj5",
    "slideshow": {
     "slide_type": "slide"
    }
   },
   "source": [
    "<table align=\"left\">\n",
    "  <td>\n",
    "    <a href=\"https://colab.research.google.com/github/marco-canas/11_math_II/blob/main/1_numpy.ipynb\" target=\"_parent\"><img src=\"https://colab.research.google.com/assets/colab-badge.svg\" alt=\"Open In Colab\"/></a>\n",
    "  </td>\n",
    "</table>"
   ]
  },
  {
   "cell_type": "markdown",
   "metadata": {
    "slideshow": {
     "slide_type": "slide"
    }
   },
   "source": [
    "# [Video de apoyo a la lectura interactiva y experimental de este cuaderno](https://www.youtube.com/watch?v=xX_YcHucLfw) "
   ]
  },
  {
   "cell_type": "markdown",
   "metadata": {
    "id": "3aC3Cy2nmdjz",
    "slideshow": {
     "slide_type": "slide"
    }
   },
   "source": [
    "# NumPy   "
   ]
  },
  {
   "cell_type": "markdown",
   "metadata": {
    "slideshow": {
     "slide_type": "slide"
    }
   },
   "source": [
    "NumPy es la biblioteca fundamental para la computación científica con Python. "
   ]
  },
  {
   "cell_type": "markdown",
   "metadata": {
    "slideshow": {
     "slide_type": "slide"
    }
   },
   "source": [
    "NumPy se centra en un poderoso objeto de matriz N-dimensional, y también contiene útiles funciones de álgebra lineal, transformada de Fourier y números aleatorios."
   ]
  },
  {
   "cell_type": "markdown",
   "metadata": {
    "id": "kTU5inhFmdj_",
    "slideshow": {
     "slide_type": "slide"
    }
   },
   "source": [
    "## Creación de matrices"
   ]
  },
  {
   "cell_type": "markdown",
   "metadata": {
    "id": "gv5nLIgAmdkB",
    "slideshow": {
     "slide_type": "slide"
    }
   },
   "source": [
    "Ahora vamos a importar `numpy`. La mayoría de la gente lo importa como `np`:"
   ]
  },
  {
   "cell_type": "code",
   "execution_count": null,
   "metadata": {
    "id": "Dkm9KCAemdkD",
    "slideshow": {
     "slide_type": "slide"
    }
   },
   "outputs": [],
   "source": [
    "import numpy as np"
   ]
  },
  {
   "cell_type": "markdown",
   "metadata": {
    "id": "Sb56W9DLmdkE",
    "slideshow": {
     "slide_type": "slide"
    }
   },
   "source": [
    "## `np.zeros`"
   ]
  },
  {
   "cell_type": "markdown",
   "metadata": {
    "slideshow": {
     "slide_type": "slide"
    }
   },
   "source": [
    "La función `np.zeros()` crea una matriz que contiene cualquier número de ceros:"
   ]
  },
  {
   "cell_type": "code",
   "execution_count": null,
   "metadata": {
    "id": "vl_j3YTFmdkG",
    "outputId": "71546093-a58f-4423-a0ac-3f5967adf49a",
    "slideshow": {
     "slide_type": "slide"
    }
   },
   "outputs": [],
   "source": [
    "np.zeros((2,2))"
   ]
  },
  {
   "cell_type": "markdown",
   "metadata": {
    "slideshow": {
     "slide_type": "slide"
    }
   },
   "source": [
    "Es igual de fácil crear una matriz 2D (es decir, una matriz) proporcionando una tupla con el número deseado de filas y columnas."
   ]
  },
  {
   "cell_type": "markdown",
   "metadata": {
    "id": "8vLgQiyvmdkI",
    "slideshow": {
     "slide_type": "slide"
    }
   },
   "source": [
    "For example, here's a 3x4 matrix:"
   ]
  },
  {
   "cell_type": "code",
   "execution_count": null,
   "metadata": {
    "id": "ZmwUM0ADmdkM",
    "outputId": "c0b1c1b7-056b-44f6-8072-04a7f2250707",
    "slideshow": {
     "slide_type": "slide"
    }
   },
   "outputs": [],
   "source": [
    "np.zeros((3,4))"
   ]
  },
  {
   "cell_type": "markdown",
   "metadata": {
    "slideshow": {
     "slide_type": "slide"
    }
   },
   "source": [
    "## Algo de vocabulario\n",
    "\n",
    "* En NumPy, cada dimensión se denomina **axis**.\n",
    "* El número de ejes se denomina **rank**.\n",
    "     * Por ejemplo, la matriz de 3x4 anterior es una matriz de rango 2 (es bidimensional).\n",
    "     * El primer eje tiene longitud 3, el segundo tiene longitud 4.\n",
    "* La lista de longitudes de eje de una matriz se denomina **forma** de la matriz.\n",
    "     * Por ejemplo, la forma de la matriz anterior es `(3, 4)`.\n",
    "     * El rango es igual a la longitud de la forma.\n",
    "* El **size** de una matriz es el número total de elementos, que es el producto de todas las longitudes de los ejes (por ejemplo, 3*4=12)"
   ]
  },
  {
   "cell_type": "code",
   "execution_count": null,
   "metadata": {
    "id": "VDdCvLvRmdkP",
    "outputId": "82374061-672c-46e9-daf6-9bea45571904",
    "slideshow": {
     "slide_type": "slide"
    }
   },
   "outputs": [],
   "source": [
    "a = np.zeros((3,4))\n",
    "a"
   ]
  },
  {
   "cell_type": "code",
   "execution_count": null,
   "metadata": {
    "id": "TbEENLhwmdkR",
    "outputId": "0fa80ad1-76eb-4a30-e54c-4e6998e1713f",
    "slideshow": {
     "slide_type": "slide"
    }
   },
   "outputs": [],
   "source": [
    "a.shape"
   ]
  },
  {
   "cell_type": "code",
   "execution_count": null,
   "metadata": {
    "id": "qGvR39S9mdkT",
    "outputId": "09e36908-55ed-42da-96d4-2e129c9a53d7",
    "slideshow": {
     "slide_type": "slide"
    }
   },
   "outputs": [],
   "source": [
    "a.ndim  # equal to len(a.shape)"
   ]
  },
  {
   "cell_type": "code",
   "execution_count": null,
   "metadata": {
    "id": "Zq5ZRD8MmdkU",
    "outputId": "d91e94b0-6406-43c3-bd76-2d443a0199f4",
    "slideshow": {
     "slide_type": "slide"
    }
   },
   "outputs": [],
   "source": [
    "a.size"
   ]
  },
  {
   "cell_type": "markdown",
   "metadata": {
    "slideshow": {
     "slide_type": "slide"
    }
   },
   "source": [
    "## Matrices N-dimensionales\n",
    "También puede crear una matriz N-dimensional de rango arbitrario. Por ejemplo, aquí hay una matriz 3D (rango = 3), con forma `(2,3,4)`:"
   ]
  },
  {
   "cell_type": "code",
   "execution_count": null,
   "metadata": {
    "id": "7Ml8LW33mdkW",
    "outputId": "33e94e99-1a84-4016-d315-d3d56d033185",
    "slideshow": {
     "slide_type": "slide"
    }
   },
   "outputs": [],
   "source": [
    "np.zeros((2,3,4))"
   ]
  },
  {
   "cell_type": "markdown",
   "metadata": {
    "id": "IOu4l72imdkZ",
    "slideshow": {
     "slide_type": "slide"
    }
   },
   "source": [
    "## Array type\n",
    "NumPy arrays have the type `ndarray`s:"
   ]
  },
  {
   "cell_type": "markdown",
   "metadata": {
    "slideshow": {
     "slide_type": "fragment"
    }
   },
   "source": [
    "## tipo de matriz\n",
    "Los arreglos NumPy tienen el tipo `ndarray`s:"
   ]
  },
  {
   "cell_type": "code",
   "execution_count": null,
   "metadata": {
    "id": "oZBPZF4nmdkZ",
    "outputId": "e6e40faf-58ee-4ce9-cc02-8a346d194439",
    "slideshow": {
     "slide_type": "slide"
    }
   },
   "outputs": [],
   "source": [
    "type(np.zeros((3,4)))"
   ]
  },
  {
   "cell_type": "markdown",
   "metadata": {
    "id": "pPl-kdFWmdkc",
    "slideshow": {
     "slide_type": "slide"
    }
   },
   "source": [
    "## `np.ones`\n",
    "Many other NumPy functions create `ndarray`s.\n",
    "\n",
    "Here's a 3x4 matrix full of ones:"
   ]
  },
  {
   "cell_type": "code",
   "execution_count": null,
   "metadata": {
    "id": "GvnYRbsGmdke",
    "outputId": "a19c2daf-ac71-4a71-e5fc-da180dc6e2c9",
    "slideshow": {
     "slide_type": "slide"
    }
   },
   "outputs": [],
   "source": [
    "np.ones((3,4))"
   ]
  },
  {
   "cell_type": "markdown",
   "metadata": {
    "id": "6Xjph3ctmdke",
    "slideshow": {
     "slide_type": "slide"
    }
   },
   "source": [
    "## `np.full`\n",
    "Creates an array of the given shape initialized with the given value. Here's a 3x4 matrix full of `π`."
   ]
  },
  {
   "cell_type": "code",
   "execution_count": null,
   "metadata": {
    "id": "WtAiRb-Ymdkf",
    "outputId": "3d45f982-5ecc-4bfe-f167-056cbff0bae1",
    "slideshow": {
     "slide_type": "slide"
    }
   },
   "outputs": [],
   "source": [
    "np.full((4,4), 1)"
   ]
  },
  {
   "cell_type": "markdown",
   "metadata": {
    "id": "TsDqvhy-mdkg",
    "slideshow": {
     "slide_type": "slide"
    }
   },
   "source": [
    "## `np.empty`"
   ]
  },
  {
   "cell_type": "markdown",
   "metadata": {
    "id": "TsDqvhy-mdkg",
    "slideshow": {
     "slide_type": "slide"
    }
   },
   "source": [
    "Una matriz de 2x3 no inicializada (su contenido no es predecible, ya que es lo que está en la memoria en ese momento):"
   ]
  },
  {
   "cell_type": "code",
   "execution_count": null,
   "metadata": {
    "id": "fagWSyHtmdkg",
    "outputId": "366e1ef9-c3d7-4568-8d05-53c105466e96",
    "scrolled": true,
    "slideshow": {
     "slide_type": "slide"
    }
   },
   "outputs": [],
   "source": [
    "np.empty((2,3))"
   ]
  },
  {
   "cell_type": "markdown",
   "metadata": {
    "slideshow": {
     "slide_type": "fragment"
    }
   },
   "source": [
    "## np.array  \n",
    "\n",
    "Por supuesto, puede inicializar un `ndarray` usando una matriz de python regular. Simplemente llame a la función `array`:"
   ]
  },
  {
   "cell_type": "code",
   "execution_count": null,
   "metadata": {
    "id": "2bYKzB78mdkj",
    "outputId": "34011ee8-6234-4cfb-a9fa-e8adf60c9e21",
    "slideshow": {
     "slide_type": "slide"
    }
   },
   "outputs": [],
   "source": [
    "np.array([[1,2,3,4], [10, 20, 30, 40]])"
   ]
  },
  {
   "cell_type": "code",
   "execution_count": null,
   "metadata": {
    "slideshow": {
     "slide_type": "slide"
    }
   },
   "outputs": [],
   "source": [
    "np.array([[1,2], [3,4]])"
   ]
  },
  {
   "cell_type": "markdown",
   "metadata": {
    "id": "iFltvnfVmdkl",
    "slideshow": {
     "slide_type": "slide"
    }
   },
   "source": [
    "## `np.arange()`"
   ]
  },
  {
   "cell_type": "markdown",
   "metadata": {
    "id": "iFltvnfVmdkl",
    "slideshow": {
     "slide_type": "slide"
    }
   },
   "source": [
    "You can create an `ndarray` using NumPy's `arange` function, which is similar to python's built-in `range` function:"
   ]
  },
  {
   "cell_type": "code",
   "execution_count": null,
   "metadata": {
    "id": "-Ci9IbA0mdkm",
    "outputId": "0e8934fe-84c2-4e68-f45a-f6ae2c083144",
    "scrolled": true,
    "slideshow": {
     "slide_type": "slide"
    }
   },
   "outputs": [],
   "source": [
    "np.arange(start = 1, stop = 6, step = 1, dtype = np.int32)"
   ]
  },
  {
   "cell_type": "markdown",
   "metadata": {
    "id": "yuX5NQaBmdkn",
    "slideshow": {
     "slide_type": "slide"
    }
   },
   "source": [
    "It also works with floats:"
   ]
  },
  {
   "cell_type": "code",
   "execution_count": null,
   "metadata": {
    "id": "lBCdgkrZmdko",
    "outputId": "69a78bb4-acce-44ea-e9e2-15fd9884967d",
    "slideshow": {
     "slide_type": "slide"
    }
   },
   "outputs": [],
   "source": [
    "np.arange(1.0, 5.0, step = 0.5)"
   ]
  },
  {
   "cell_type": "markdown",
   "metadata": {
    "id": "Navcjw1mmdkp",
    "slideshow": {
     "slide_type": "slide"
    }
   },
   "source": [
    "Por supuesto, puede proporcionar un parámetro de paso:"
   ]
  },
  {
   "cell_type": "code",
   "execution_count": null,
   "metadata": {
    "id": "rHI8hMp_mdks",
    "outputId": "eb3d4a51-13d7-4fed-8653-b6dcb70e3010",
    "slideshow": {
     "slide_type": "slide"
    }
   },
   "outputs": [],
   "source": [
    "np.arange(start = 1, stop = 5, step = 0.5)"
   ]
  },
  {
   "cell_type": "markdown",
   "metadata": {
    "id": "-Wcigwo4mdku",
    "slideshow": {
     "slide_type": "slide"
    }
   },
   "source": [
    "Sin embargo, cuando se trata de flotantes, la cantidad exacta de elementos en la matriz no siempre es predecible. Por ejemplo, considera esto:"
   ]
  },
  {
   "cell_type": "code",
   "execution_count": null,
   "metadata": {
    "id": "p-E4wNFWmdkv",
    "outputId": "c9fce9c3-c70c-453c-d76e-90b9aa7247fe",
    "slideshow": {
     "slide_type": "slide"
    }
   },
   "outputs": [],
   "source": [
    "print(np.arange(0, 5/3, 1/3)) # depending on floating point errors, the max value is 4/3 or 5/3.\n",
    "print(np.arange(0, 5/3, 0.333333333))\n",
    "print(np.arange(0, 5/3, 0.333333334))\n"
   ]
  },
  {
   "cell_type": "markdown",
   "metadata": {
    "id": "wKNtBmbpmdkw",
    "slideshow": {
     "slide_type": "slide"
    }
   },
   "source": [
    "## `np.linspace`  "
   ]
  },
  {
   "cell_type": "markdown",
   "metadata": {
    "id": "wKNtBmbpmdkw",
    "slideshow": {
     "slide_type": "slide"
    }
   },
   "source": [
    "Por esta razón, generalmente es preferible usar la función `linspace` en lugar de `arange` cuando se trabaja con flotantes. La función `linspace` devuelve una matriz que contiene un número específico de puntos distribuidos uniformemente entre dos valores (tenga en cuenta que el valor máximo está *incluido*, al contrario que `arange`):"
   ]
  },
  {
   "cell_type": "code",
   "execution_count": null,
   "metadata": {
    "id": "uh62T8B0mdkx",
    "outputId": "2ac7044d-daf6-43e9-8505-df2e01ff329a",
    "slideshow": {
     "slide_type": "slide"
    }
   },
   "outputs": [],
   "source": [
    "print(np.linspace(start = 0, stop = 5/3, num = 6))"
   ]
  },
  {
   "cell_type": "markdown",
   "metadata": {
    "id": "BOtmlKD_mdkx",
    "slideshow": {
     "slide_type": "slide"
    }
   },
   "source": [
    "## `np.rand` and `np.randn`\n",
    "A number of functions are available in NumPy's `random` module to create `ndarray`s initialized with random values.\n",
    "For example, here is a 3x4 matrix initialized with random floats between 0 and 1 (uniform distribution):"
   ]
  },
  {
   "cell_type": "code",
   "execution_count": null,
   "metadata": {
    "id": "-rypO8bNmdkz",
    "outputId": "7f98bb9c-9cb9-4c21-f68f-0be3098f8656",
    "scrolled": true,
    "slideshow": {
     "slide_type": "slide"
    }
   },
   "outputs": [],
   "source": [
    "np.random.rand(3,4)"
   ]
  },
  {
   "cell_type": "markdown",
   "metadata": {
    "id": "Dtlo8r3Emdk0",
    "slideshow": {
     "slide_type": "slide"
    }
   },
   "source": [
    "Here's a 3x4 matrix containing random floats sampled from a univariate [normal distribution](https://en.wikipedia.org/wiki/Normal_distribution) (Gaussian distribution) of mean 0 and variance 1:"
   ]
  },
  {
   "cell_type": "code",
   "execution_count": null,
   "metadata": {
    "id": "qHDk7wgZmdk0",
    "outputId": "a2212d8d-bfa1-428f-99b8-568be304f9e7",
    "slideshow": {
     "slide_type": "slide"
    }
   },
   "outputs": [],
   "source": [
    "np.random.randn(3,4)"
   ]
  },
  {
   "cell_type": "markdown",
   "metadata": {
    "slideshow": {
     "slide_type": "slide"
    }
   },
   "source": [
    "Para darle una idea de cómo se ven estas distribuciones, usemos matplotlib (consulte el [tutorial de matplotlib] (tools_matplotlib.ipynb) para obtener más detalles):"
   ]
  },
  {
   "cell_type": "code",
   "execution_count": null,
   "metadata": {
    "id": "E6QZBTk7mdk3",
    "slideshow": {
     "slide_type": "slide"
    }
   },
   "outputs": [],
   "source": [
    "import matplotlib.pyplot as plt"
   ]
  },
  {
   "cell_type": "code",
   "execution_count": null,
   "metadata": {
    "slideshow": {
     "slide_type": "slide"
    }
   },
   "outputs": [],
   "source": [
    "np.random.rand(10)"
   ]
  },
  {
   "cell_type": "code",
   "execution_count": null,
   "metadata": {
    "id": "o0iMn32Hmdk4",
    "outputId": "214e4908-913c-4202-ce9d-6a15371c89eb",
    "slideshow": {
     "slide_type": "slide"
    }
   },
   "outputs": [],
   "source": [
    "plt.hist(np.random.rand(100_000), density=True, bins=100, histtype=\"step\", color=\"blue\", label=\"rand\")\n",
    "plt.hist(np.random.randn(100_000), density=True, bins=100, histtype=\"step\", color=\"red\", label=\"randn\")\n",
    "plt.axis([-3, 3, 0, 1.2])\n",
    "plt.legend(loc = \"upper right\")\n",
    "plt.title(\"Random distributions\")\n",
    "plt.xlabel(\"Value\")\n",
    "plt.ylabel(\"Density\")\n",
    "plt.grid() \n",
    "\n",
    "plt.savefig('rand_randn.jpg')\n",
    "\n",
    "plt.show()"
   ]
  },
  {
   "cell_type": "markdown",
   "metadata": {
    "slideshow": {
     "slide_type": "slide"
    }
   },
   "source": [
    "# np.fromfunction  \n",
    "\n",
    "También puedes inicializar un `ndarray` usando una función:"
   ]
  },
  {
   "cell_type": "code",
   "execution_count": null,
   "metadata": {
    "slideshow": {
     "slide_type": "slide"
    }
   },
   "outputs": [],
   "source": [
    "np.arange(2), np.arange(10)"
   ]
  },
  {
   "cell_type": "code",
   "execution_count": null,
   "metadata": {
    "id": "mUuaG7jomdk5",
    "outputId": "26bd9fbe-c865-4bea-ce3f-f264b7622466",
    "slideshow": {
     "slide_type": "slide"
    }
   },
   "outputs": [],
   "source": [
    "def my_function(x,y):\n",
    "    return x+y\n",
    "\n",
    "np.fromfunction(my_function, (2, 10))"
   ]
  },
  {
   "cell_type": "markdown",
   "metadata": {
    "id": "zN3-bcIgmdk6",
    "slideshow": {
     "slide_type": "slide"
    }
   },
   "source": [
    "NumPy first creates three `ndarray`s (one per dimension), each of shape `(3, 2, 10)`. Each array has values equal to the coordinate along a specific axis. For example, all elements in the `z` array are equal to their z-coordinate:\n",
    "\n",
    "    [[[ 0.  0.  0.  0.  0.  0.  0.  0.  0.  0.]\n",
    "      [ 0.  0.  0.  0.  0.  0.  0.  0.  0.  0.]]\n",
    "    \n",
    "     [[ 1.  1.  1.  1.  1.  1.  1.  1.  1.  1.]\n",
    "      [ 1.  1.  1.  1.  1.  1.  1.  1.  1.  1.]]\n",
    "    \n",
    "     [[ 2.  2.  2.  2.  2.  2.  2.  2.  2.  2.]\n",
    "      [ 2.  2.  2.  2.  2.  2.  2.  2.  2.  2.]]]\n",
    "\n",
    "So the terms `x`, `y` and `z` in the expression `x + 10 * y + 100 * z` above are in fact `ndarray`s (we will discuss arithmetic operations on arrays below).  The point is that the function `my_function` is only called *once*, instead of once per element. This makes initialization very efficient."
   ]
  },
  {
   "cell_type": "markdown",
   "metadata": {
    "slideshow": {
     "slide_type": "slide"
    }
   },
   "source": [
    "## Tareas de fijación de conceptos y adquisición de habilidades"
   ]
  },
  {
   "cell_type": "markdown",
   "metadata": {
    "slideshow": {
     "slide_type": "slide"
    }
   },
   "source": [
    "1. cree una matriz con los números de cédula de tus compañeros en una columna, su edad en la segunda columna, su estatura en la tercera. "
   ]
  },
  {
   "cell_type": "markdown",
   "metadata": {
    "slideshow": {
     "slide_type": "slide"
    }
   },
   "source": [
    "## Evaluación de adquisición de conceptos y desarrollo de habilidades como científico de datos"
   ]
  },
  {
   "cell_type": "markdown",
   "metadata": {
    "slideshow": {
     "slide_type": "slide"
    }
   },
   "source": [
    "1. Importe el dataset de flores de iris en forma de nb-array. "
   ]
  },
  {
   "cell_type": "markdown",
   "metadata": {
    "slideshow": {
     "slide_type": "slide"
    }
   },
   "source": [
    "## Auto evaluación"
   ]
  },
  {
   "cell_type": "markdown",
   "metadata": {
    "slideshow": {
     "slide_type": "slide"
    }
   },
   "source": [
    "# [Sigue el video 2 sobre numpy]()"
   ]
  },
  {
   "cell_type": "markdown",
   "metadata": {
    "slideshow": {
     "slide_type": "slide"
    }
   },
   "source": [
    "# Arreglos de datos\n",
    "## `dtype`\n",
    "Los `ndarray`s de NumPy también son eficientes en parte porque todos sus elementos deben tener el mismo tipo (generalmente números).\n",
    "Puede verificar cuál es el tipo de datos mirando el atributo `dtype`:"
   ]
  },
  {
   "cell_type": "code",
   "execution_count": null,
   "metadata": {
    "id": "AiUSNmx2mdk9",
    "outputId": "adf3aa09-929a-4989-f4b0-2d8c8692ce70",
    "scrolled": true,
    "slideshow": {
     "slide_type": "slide"
    }
   },
   "outputs": [],
   "source": [
    "c = np.arange(1, 5)\n",
    "print(c.dtype, c)"
   ]
  },
  {
   "cell_type": "code",
   "execution_count": null,
   "metadata": {
    "id": "cUbjZXfOmdk_",
    "outputId": "01aff7b7-90c5-4fd7-f759-59f961a4a816",
    "slideshow": {
     "slide_type": "slide"
    }
   },
   "outputs": [],
   "source": [
    "c = np.arange(1.0, 5.0)\n",
    "print(c.dtype, c)"
   ]
  },
  {
   "cell_type": "markdown",
   "metadata": {
    "slideshow": {
     "slide_type": "slide"
    }
   },
   "source": [
    "En lugar de dejar que NumPy adivine qué tipo de datos usar, puede configurarlo explícitamente al crear una matriz configurando el parámetro `dtype`:"
   ]
  },
  {
   "cell_type": "code",
   "execution_count": null,
   "metadata": {
    "id": "mwVkNpRhmdlB",
    "outputId": "ab3501ee-5e0f-46f4-b55c-7dac01def7e9",
    "slideshow": {
     "slide_type": "slide"
    }
   },
   "outputs": [],
   "source": [
    "d = np.arange(1, 5, dtype=np.complex64)\n",
    "print(d.dtype, d)"
   ]
  },
  {
   "cell_type": "markdown",
   "metadata": {
    "id": "y1arVZOmmdlB",
    "slideshow": {
     "slide_type": "slide"
    }
   },
   "source": [
    "Available data types include signed `int8`, `int16`, `int32`, `int64`, unsigned `uint8`|`16`|`32`|`64`, `float16`|`32`|`64` and `complex64`|`128`. Check out the documentation for the [basic types](https://numpy.org/doc/stable/user/basics.types.html) and [sized aliases](https://numpy.org/doc/stable/reference/arrays.scalars.html#sized-aliases) for the full list.\n",
    "\n",
    "## `itemsize`\n",
    "The `itemsize` attribute returns the size (in bytes) of each item:"
   ]
  },
  {
   "cell_type": "code",
   "execution_count": null,
   "metadata": {
    "id": "PuTllTH4mdlB",
    "outputId": "6bae752f-6e9d-4bcc-eaa7-39b30a2fd641",
    "slideshow": {
     "slide_type": "slide"
    }
   },
   "outputs": [],
   "source": [
    "e = np.arange(1, 5, dtype=np.complex64)\n",
    "e.itemsize"
   ]
  },
  {
   "cell_type": "markdown",
   "metadata": {
    "id": "5OCu0L3TmdlB",
    "slideshow": {
     "slide_type": "slide"
    }
   },
   "source": [
    "## `data` buffer"
   ]
  },
  {
   "cell_type": "markdown",
   "metadata": {
    "id": "5OCu0L3TmdlB",
    "slideshow": {
     "slide_type": "slide"
    }
   },
   "source": [
    "Los datos de una matriz en realidad se almacenan en la memoria como un búfer de bytes plano (unidimensional). Está disponible *a través* del atributo `data` (aunque rara vez lo necesitará)."
   ]
  },
  {
   "cell_type": "code",
   "execution_count": null,
   "metadata": {
    "id": "sFIUzDEkmdlC",
    "outputId": "271f9dac-c009-4408-ea15-2e7d7848d81d",
    "slideshow": {
     "slide_type": "slide"
    }
   },
   "outputs": [],
   "source": [
    "f = np.array([[1,2],[1000, 2000]], dtype=np.int32)\n",
    "f.data"
   ]
  },
  {
   "cell_type": "markdown",
   "metadata": {
    "id": "y5_Kct8smdlD",
    "slideshow": {
     "slide_type": "slide"
    }
   },
   "source": [
    "In python 2, `f.data` is a buffer. In python 3, it is a memoryview."
   ]
  },
  {
   "cell_type": "code",
   "execution_count": null,
   "metadata": {
    "id": "GJeWBibOmdlD",
    "outputId": "8608c035-3ed9-4d01-f96b-00e44c31e29b",
    "slideshow": {
     "slide_type": "slide"
    }
   },
   "outputs": [],
   "source": [
    "if hasattr(f.data, \"tobytes\"):\n",
    "    data_bytes = f.data.tobytes() # python 3\n",
    "else:\n",
    "    data_bytes = memoryview(f.data).tobytes() # python 2\n",
    "\n",
    "data_bytes"
   ]
  },
  {
   "cell_type": "markdown",
   "metadata": {
    "id": "OXXdGIGdmdlE",
    "slideshow": {
     "slide_type": "slide"
    }
   },
   "source": [
    "Several `ndarray`s can share the same data buffer, meaning that modifying one will also modify the others. We will see an example in a minute."
   ]
  },
  {
   "cell_type": "markdown",
   "metadata": {
    "id": "N0RP3atvmdlE",
    "slideshow": {
     "slide_type": "slide"
    }
   },
   "source": [
    "# Reformar una matriz\n",
    "## En su lugar\n",
    "Cambiar la forma de un `ndarray` es tan simple como establecer su atributo `shape`. Sin embargo, el tamaño de la matriz debe permanecer igual."
   ]
  },
  {
   "cell_type": "code",
   "execution_count": null,
   "metadata": {
    "id": "V_SdCa2GmdlF",
    "outputId": "8582ab00-3f9b-44be-cc3f-74b659375e6e",
    "slideshow": {
     "slide_type": "slide"
    }
   },
   "outputs": [],
   "source": [
    "g = np.arange(24)\n",
    "print(g)\n",
    "print(\"Rank:\", g.ndim)"
   ]
  },
  {
   "cell_type": "code",
   "execution_count": null,
   "metadata": {
    "id": "Weo94uELmdlI",
    "outputId": "df657b6f-1dd9-4f4b-db09-2e4a4cea5704",
    "slideshow": {
     "slide_type": "slide"
    }
   },
   "outputs": [],
   "source": [
    "g.shape = (6, 4)\n",
    "print(g)\n",
    "print(\"Rank:\", g.ndim)"
   ]
  },
  {
   "cell_type": "code",
   "execution_count": null,
   "metadata": {
    "id": "qDfbiYYkmdlJ",
    "outputId": "8d9cc13b-ab5b-4337-f4dd-b01fcda694ac",
    "scrolled": true
   },
   "outputs": [],
   "source": [
    "g.shape = (2, 3, 4)\n",
    "print(g)\n",
    "print(\"Rank:\", g.ndim)"
   ]
  },
  {
   "cell_type": "markdown",
   "metadata": {
    "id": "yr1eNZdlmdlK",
    "slideshow": {
     "slide_type": "slide"
    }
   },
   "source": [
    "## `reshape`\n",
    "The `reshape` function returns a new `ndarray` object pointing at the *same* data. This means that modifying one array will also modify the other."
   ]
  },
  {
   "cell_type": "code",
   "execution_count": null,
   "metadata": {
    "id": "SlRhtIpwmdlK",
    "outputId": "49aa1f6c-71d1-4020-a54d-42d43deb8646",
    "scrolled": true,
    "slideshow": {
     "slide_type": "slide"
    }
   },
   "outputs": [],
   "source": [
    "g2 = g.reshape(4,6)\n",
    "print(g2)\n",
    "print(\"Rank:\", g2.ndim)"
   ]
  },
  {
   "cell_type": "markdown",
   "metadata": {
    "id": "tYk-868GmdlL",
    "slideshow": {
     "slide_type": "slide"
    }
   },
   "source": [
    "Set item at row 1, col 2 to 999 (more about indexing below)."
   ]
  },
  {
   "cell_type": "code",
   "execution_count": null,
   "metadata": {
    "id": "1BBwgMNqmdlM",
    "outputId": "9028b73c-5f66-46d0-d8e2-8f5b3e37afd7",
    "slideshow": {
     "slide_type": "slide"
    }
   },
   "outputs": [],
   "source": [
    "g2[1, 2] = 999\n",
    "g2"
   ]
  },
  {
   "cell_type": "markdown",
   "metadata": {
    "id": "gc7dD8-KmdlP",
    "slideshow": {
     "slide_type": "slide"
    }
   },
   "source": [
    "The corresponding element in `g` has been modified."
   ]
  },
  {
   "cell_type": "code",
   "execution_count": null,
   "metadata": {
    "id": "ixAnpNOemdlP",
    "outputId": "7c58a0da-42fb-4c22-9ff5-3dc7d71ae3a8",
    "slideshow": {
     "slide_type": "slide"
    }
   },
   "outputs": [],
   "source": [
    "g"
   ]
  },
  {
   "cell_type": "markdown",
   "metadata": {
    "id": "JYEHqCEBmdlR",
    "slideshow": {
     "slide_type": "slide"
    }
   },
   "source": [
    "## `ravel`\n",
    "Finally, the `ravel` function returns a new one-dimensional `ndarray` that also points to the same data:"
   ]
  },
  {
   "cell_type": "code",
   "execution_count": null,
   "metadata": {
    "id": "g0kl1N7FmdlR",
    "outputId": "ec79494c-8e9c-4fcb-a538-05a86180c32f",
    "slideshow": {
     "slide_type": "slide"
    }
   },
   "outputs": [],
   "source": [
    "g.ravel()"
   ]
  },
  {
   "cell_type": "markdown",
   "metadata": {
    "id": "66jAdvrdmdlR",
    "slideshow": {
     "slide_type": "slide"
    }
   },
   "source": [
    "# Arithmetic operations\n",
    "All the usual arithmetic operators (`+`, `-`, `*`, `/`, `//`, `**`, etc.) can be used with `ndarray`s. They apply *elementwise*:"
   ]
  },
  {
   "cell_type": "code",
   "execution_count": null,
   "metadata": {
    "id": "9x99n-3rmdlR",
    "outputId": "a284789f-e698-4c13-ba7d-3ed49e2a6dea",
    "slideshow": {
     "slide_type": "slide"
    }
   },
   "outputs": [],
   "source": [
    "a = np.array([14, 23, 32, 41])\n",
    "b = np.array([5,  4,  3,  2])\n",
    "print(\"a + b  =\", a + b)\n",
    "print(\"a - b  =\", a - b)\n",
    "print(\"a * b  =\", a * b)\n",
    "print(\"a / b  =\", a / b)\n",
    "print(\"a // b  =\", a // b)\n",
    "print(\"a % b  =\", a % b)\n",
    "print(\"a ** b =\", a ** b)"
   ]
  },
  {
   "cell_type": "markdown",
   "metadata": {
    "id": "lcLgijYfmdlS",
    "slideshow": {
     "slide_type": "slide"
    }
   },
   "source": [
    "Note that the multiplication is *not* a matrix multiplication. We will discuss matrix operations below.\n",
    "\n",
    "The arrays must have the same shape. If they do not, NumPy will apply the *broadcasting rules*."
   ]
  },
  {
   "cell_type": "markdown",
   "metadata": {
    "id": "XB5voq4wmdlS",
    "slideshow": {
     "slide_type": "slide"
    }
   },
   "source": [
    "# Broadcasting (emisión)"
   ]
  },
  {
   "cell_type": "markdown",
   "metadata": {
    "id": "Qop9XwIDmdlT",
    "slideshow": {
     "slide_type": "slide"
    }
   },
   "source": [
    "In general, when NumPy expects arrays of the same shape but finds that this is not the case, it applies the so-called *broadcasting* rules:"
   ]
  },
  {
   "cell_type": "markdown",
   "metadata": {
    "id": "Qop9XwIDmdlT",
    "slideshow": {
     "slide_type": "slide"
    }
   },
   "source": [
    "## First rule"
   ]
  },
  {
   "cell_type": "markdown",
   "metadata": {
    "id": "Qop9XwIDmdlT",
    "slideshow": {
     "slide_type": "slide"
    }
   },
   "source": [
    "*Si las matrices no tienen el mismo rango, se antepondrá un 1 a las matrices de clasificación más pequeñas hasta que sus rangos coincidan.*"
   ]
  },
  {
   "cell_type": "code",
   "execution_count": null,
   "metadata": {
    "id": "ZgVm7_mwmdlT",
    "outputId": "e7c9bcac-e830-4098-a9df-558314820936",
    "slideshow": {
     "slide_type": "slide"
    }
   },
   "outputs": [],
   "source": [
    "h = np.arange(5).reshape(1, 1, 5)\n",
    "h"
   ]
  },
  {
   "cell_type": "markdown",
   "metadata": {
    "id": "XjVFhqBVmdlU",
    "slideshow": {
     "slide_type": "slide"
    }
   },
   "source": [
    "Now let's try to add a 1D array of shape `(5,)` to this 3D array of shape `(1,1,5)`. Applying the first rule of broadcasting!"
   ]
  },
  {
   "cell_type": "code",
   "execution_count": null,
   "metadata": {
    "id": "09HY2e74mdlV",
    "outputId": "33861ade-3f91-43fb-a6a2-250dad75d802",
    "slideshow": {
     "slide_type": "slide"
    }
   },
   "outputs": [],
   "source": [
    "h + [10, 20, 30, 40, 50]  # same as: h + [[[10, 20, 30, 40, 50]]]"
   ]
  },
  {
   "cell_type": "markdown",
   "metadata": {
    "id": "X5pex-ShmdlW",
    "slideshow": {
     "slide_type": "slide"
    }
   },
   "source": [
    "## Second rule\n",
    "*Arrays with a 1 along a particular dimension act as if they had the size of the array with the largest shape along that dimension. The value of the array element is repeated along that dimension.*"
   ]
  },
  {
   "cell_type": "code",
   "execution_count": null,
   "metadata": {
    "id": "ZW2_jfo0mdlX",
    "outputId": "ee68cd12-3e64-4329-acc2-aa988ab1a7f3",
    "slideshow": {
     "slide_type": "slide"
    }
   },
   "outputs": [],
   "source": [
    "k = np.arange(6).reshape(2, 3)\n",
    "k"
   ]
  },
  {
   "cell_type": "markdown",
   "metadata": {
    "id": "Sg2M4GKymdlY",
    "slideshow": {
     "slide_type": "slide"
    }
   },
   "source": [
    "Let's try to add a 2D array of shape `(2,1)` to this 2D `ndarray` of shape `(2, 3)`. NumPy will apply the second rule of broadcasting:"
   ]
  },
  {
   "cell_type": "code",
   "execution_count": null,
   "metadata": {
    "id": "b6ErP5yzmdlZ",
    "outputId": "51ff5609-9e1e-493d-a4c2-c8c37b669836",
    "slideshow": {
     "slide_type": "slide"
    }
   },
   "outputs": [],
   "source": [
    "k + [[100], [200]]  # same as: k + [[100, 100, 100], [200, 200, 200]]"
   ]
  },
  {
   "cell_type": "markdown",
   "metadata": {
    "id": "EycK4fbWmdla"
   },
   "source": [
    "Combining rules 1 & 2, we can do this:"
   ]
  },
  {
   "cell_type": "code",
   "execution_count": null,
   "metadata": {
    "id": "BexrEyh2mdlb",
    "outputId": "a6223281-37a1-4e3a-ca07-a65d063102ee"
   },
   "outputs": [],
   "source": [
    "k + [100, 200, 300]  # after rule 1: [[100, 200, 300]], and after rule 2: [[100, 200, 300], [100, 200, 300]]"
   ]
  },
  {
   "cell_type": "markdown",
   "metadata": {
    "id": "cP1iQJuHmdlb"
   },
   "source": [
    "And also, very simply:"
   ]
  },
  {
   "cell_type": "code",
   "execution_count": null,
   "metadata": {
    "id": "Ua-OWDJtmdlb",
    "outputId": "3a98fd93-717f-422c-d4cd-80f962fa7ae8"
   },
   "outputs": [],
   "source": [
    "k + 1000  # same as: k + [[1000, 1000, 1000], [1000, 1000, 1000]]"
   ]
  },
  {
   "cell_type": "markdown",
   "metadata": {
    "id": "pCmPNiZUmdlb"
   },
   "source": [
    "## Third rule\n",
    "*After rules 1 & 2, the sizes of all arrays must match.*"
   ]
  },
  {
   "cell_type": "code",
   "execution_count": null,
   "metadata": {
    "id": "DtSAXDdXmdlc",
    "outputId": "e6605d43-74b2-4963-fa1f-8d503abc348a"
   },
   "outputs": [],
   "source": [
    "try:\n",
    "    k + [33, 44]\n",
    "except ValueError as e:\n",
    "    print(e)"
   ]
  },
  {
   "cell_type": "markdown",
   "metadata": {
    "id": "ZFFqqfGhmdle"
   },
   "source": [
    "Broadcasting rules are used in many NumPy operations, not just arithmetic operations, as we will see below.\n",
    "For more details about broadcasting, check out [the documentation](https://numpy.org/doc/stable/user/basics.broadcasting.html)."
   ]
  },
  {
   "cell_type": "markdown",
   "metadata": {
    "id": "mhVEazJJmdlg"
   },
   "source": [
    "## Upcasting\n",
    "When trying to combine arrays with different `dtype`s, NumPy will *upcast* to a type capable of handling all possible values (regardless of what the *actual* values are)."
   ]
  },
  {
   "cell_type": "code",
   "execution_count": null,
   "metadata": {
    "id": "L9YcGq4jmdlg",
    "outputId": "7d97b3b9-9cf1-45fa-d5ae-ca77a944312b"
   },
   "outputs": [],
   "source": [
    "k1 = np.arange(0, 5, dtype=np.uint8)\n",
    "print(k1.dtype, k1)"
   ]
  },
  {
   "cell_type": "code",
   "execution_count": null,
   "metadata": {
    "id": "ijUP14N1mdlh",
    "outputId": "bacebcc4-f03b-4034-9c04-224983187f55"
   },
   "outputs": [],
   "source": [
    "k2 = k1 + np.array([5, 6, 7, 8, 9], dtype=np.int8)\n",
    "print(k2.dtype, k2)"
   ]
  },
  {
   "cell_type": "markdown",
   "metadata": {
    "id": "InzXIlGmmdlh"
   },
   "source": [
    "Note that `int16` is required to represent all *possible* `int8` and `uint8` values (from -128 to 255), even though in this case a `uint8` would have sufficed."
   ]
  },
  {
   "cell_type": "code",
   "execution_count": null,
   "metadata": {
    "id": "7UilCN2Amdli",
    "outputId": "5426402b-7aba-4749-bac0-94ce74d599a9"
   },
   "outputs": [],
   "source": [
    "k3 = k1 + 1.5\n",
    "print(k3.dtype, k3)"
   ]
  },
  {
   "cell_type": "markdown",
   "metadata": {
    "id": "DLVBcraamdli"
   },
   "source": [
    "# Conditional operators"
   ]
  },
  {
   "cell_type": "markdown",
   "metadata": {
    "id": "ZDRH3Nn0mdlj"
   },
   "source": [
    "The conditional operators also apply elementwise:"
   ]
  },
  {
   "cell_type": "code",
   "execution_count": null,
   "metadata": {
    "id": "Nk7urwtAmdlj",
    "outputId": "c463da29-b0a1-4a12-c2c6-7e975d1b73c7"
   },
   "outputs": [],
   "source": [
    "m = np.array([20, -5, 30, 40])\n",
    "m < [15, 16, 35, 36]"
   ]
  },
  {
   "cell_type": "markdown",
   "metadata": {
    "id": "LXabPiUhmdlm"
   },
   "source": [
    "And using broadcasting:"
   ]
  },
  {
   "cell_type": "code",
   "execution_count": null,
   "metadata": {
    "id": "CYCSdVnlmdln",
    "outputId": "b4bf1c36-4c39-4d30-9e26-eb1f7a24ea21"
   },
   "outputs": [],
   "source": [
    "m < 25  # equivalent to m < [25, 25, 25, 25]"
   ]
  },
  {
   "cell_type": "markdown",
   "metadata": {
    "id": "_4T-xQyNmdlp"
   },
   "source": [
    "This is most useful in conjunction with boolean indexing (discussed below)."
   ]
  },
  {
   "cell_type": "code",
   "execution_count": null,
   "metadata": {
    "id": "U7DsujTdmdlp",
    "outputId": "b5d040a8-850a-4725-a176-f031587fb71a"
   },
   "outputs": [],
   "source": [
    "m[m < 25]"
   ]
  },
  {
   "cell_type": "markdown",
   "metadata": {
    "id": "VozCn2GMmdlq"
   },
   "source": [
    "# Mathematical and statistical functions"
   ]
  },
  {
   "cell_type": "markdown",
   "metadata": {
    "id": "Wt02z2M7mdlq"
   },
   "source": [
    "Many mathematical and statistical functions are available for `ndarray`s.\n",
    "\n",
    "## `ndarray` methods\n",
    "Some functions are simply `ndarray` methods, for example:"
   ]
  },
  {
   "cell_type": "code",
   "execution_count": null,
   "metadata": {
    "id": "llLkgCKPmdlr",
    "outputId": "e1395692-d5f8-48f6-9dd4-070f5292229d"
   },
   "outputs": [],
   "source": [
    "a = np.array([[-2.5, 3.1, 7], [10, 11, 12]])\n",
    "print(a)\n",
    "print(\"mean =\", a.mean())"
   ]
  },
  {
   "cell_type": "markdown",
   "metadata": {
    "id": "DyOXZkU5mdlr"
   },
   "source": [
    "Note that this computes the mean of all elements in the `ndarray`, regardless of its shape.\n",
    "\n",
    "Here are a few more useful `ndarray` methods:"
   ]
  },
  {
   "cell_type": "code",
   "execution_count": null,
   "metadata": {
    "id": "MmMynlS5mdls",
    "outputId": "74d6532c-bfd2-4ee7-9df6-da1678f21561"
   },
   "outputs": [],
   "source": [
    "for func in (a.min, a.max, a.sum, a.prod, a.std, a.var):\n",
    "    print(func.__name__, \"=\", func())"
   ]
  },
  {
   "cell_type": "markdown",
   "metadata": {
    "id": "2zJez9Pdmdlv"
   },
   "source": [
    "These functions accept an optional argument `axis` which lets you ask for the operation to be performed on elements along the given axis. For example:"
   ]
  },
  {
   "cell_type": "code",
   "execution_count": null,
   "metadata": {
    "id": "kAMEwPg5mdlw",
    "outputId": "1f9cd947-7001-436f-d503-e560370f9a0e"
   },
   "outputs": [],
   "source": [
    "c=np.arange(24).reshape(2,3,4)\n",
    "c"
   ]
  },
  {
   "cell_type": "code",
   "execution_count": null,
   "metadata": {
    "id": "4-gDrB6fmdlx",
    "outputId": "b93fedbe-bb11-4fbe-f1e1-4711afa85367"
   },
   "outputs": [],
   "source": [
    "c.sum(axis=0)  # sum across matrices"
   ]
  },
  {
   "cell_type": "code",
   "execution_count": null,
   "metadata": {
    "id": "IHbQZTqDmdlx",
    "outputId": "14208214-7d96-4a0c-f7ed-8aa27ca7405c"
   },
   "outputs": [],
   "source": [
    "c.sum(axis=1)  # sum across rows"
   ]
  },
  {
   "cell_type": "markdown",
   "metadata": {
    "id": "sgbddTVHmdlx"
   },
   "source": [
    "You can also sum over multiple axes:"
   ]
  },
  {
   "cell_type": "code",
   "execution_count": null,
   "metadata": {
    "id": "Bpmjz_DDmdly",
    "outputId": "280c6e4e-aac0-4919-e3cc-7d72b45b206c"
   },
   "outputs": [],
   "source": [
    "c.sum(axis=(0,2))  # sum across matrices and columns"
   ]
  },
  {
   "cell_type": "code",
   "execution_count": null,
   "metadata": {
    "id": "fL71KFZ5mdly",
    "outputId": "6767fb51-7b46-4e9f-ddf8-af6f1e7d027d"
   },
   "outputs": [],
   "source": [
    "0+1+2+3 + 12+13+14+15, 4+5+6+7 + 16+17+18+19, 8+9+10+11 + 20+21+22+23"
   ]
  },
  {
   "cell_type": "markdown",
   "metadata": {
    "id": "gImv-lLwmdl0"
   },
   "source": [
    "## Universal functions\n",
    "NumPy also provides fast elementwise functions called *universal functions*, or **ufunc**. They are vectorized wrappers of simple functions. For example `square` returns a new `ndarray` which is a copy of the original `ndarray` except that each element is squared:"
   ]
  },
  {
   "cell_type": "code",
   "execution_count": null,
   "metadata": {
    "id": "UqxB153amdl1",
    "outputId": "eaa86af4-c18a-4dd4-b253-b3f02d52660a"
   },
   "outputs": [],
   "source": [
    "a = np.array([[-2.5, 3.1, 7], [10, 11, 12]])\n",
    "np.square(a)"
   ]
  },
  {
   "cell_type": "markdown",
   "metadata": {
    "id": "eTgqznWjmdl2"
   },
   "source": [
    "Here are a few more useful unary ufuncs:"
   ]
  },
  {
   "cell_type": "code",
   "execution_count": null,
   "metadata": {
    "id": "bPabMR77mdl4",
    "outputId": "d75c3841-7f88-4ac5-8591-c614d79fd71d"
   },
   "outputs": [],
   "source": [
    "print(\"Original ndarray\")\n",
    "print(a)\n",
    "for func in (np.abs, np.sqrt, np.exp, np.log, np.sign, np.ceil, np.modf, np.isnan, np.cos):\n",
    "    print(\"\\n\", func.__name__)\n",
    "    print(func(a))"
   ]
  },
  {
   "cell_type": "markdown",
   "metadata": {
    "id": "ewY6R9Qdmdl6"
   },
   "source": [
    "The two warnings are due to the fact that `sqrt()` and `log()` are undefined for negative numbers, which is why there is a `np.nan` value in the first cell of the output of these two functions."
   ]
  },
  {
   "cell_type": "markdown",
   "metadata": {
    "id": "DOs5EdDvmdl7"
   },
   "source": [
    "## Binary ufuncs\n",
    "There are also many binary ufuncs, that apply elementwise on two `ndarray`s.  Broadcasting rules are applied if the arrays do not have the same shape:"
   ]
  },
  {
   "cell_type": "code",
   "execution_count": null,
   "metadata": {
    "id": "W39eLwIUmdl7",
    "outputId": "f07576c4-b164-4a84-c9e2-88ce6a06ca66"
   },
   "outputs": [],
   "source": [
    "a = np.array([1, -2, 3, 4])\n",
    "b = np.array([2, 8, -1, 7])\n",
    "np.add(a, b)  # equivalent to a + b"
   ]
  },
  {
   "cell_type": "code",
   "execution_count": null,
   "metadata": {
    "id": "tDFK78I7mdl8",
    "outputId": "3161cac0-94b2-492f-8af1-cb5e2e7142a7"
   },
   "outputs": [],
   "source": [
    "np.greater(a, b)  # equivalent to a > b"
   ]
  },
  {
   "cell_type": "code",
   "execution_count": null,
   "metadata": {
    "id": "g9dIsMEPmdl8",
    "outputId": "e9ebee4d-4dc9-47a2-c549-b25a17b87292"
   },
   "outputs": [],
   "source": [
    "np.maximum(a, b)"
   ]
  },
  {
   "cell_type": "code",
   "execution_count": null,
   "metadata": {
    "id": "1JZ6oJY9mdmA",
    "outputId": "46594c25-01f7-4c73-93f4-d6b0ce97e4c4"
   },
   "outputs": [],
   "source": [
    "np.copysign(a, b)"
   ]
  },
  {
   "cell_type": "markdown",
   "metadata": {
    "id": "wVy3vIQ7mdmC"
   },
   "source": [
    "# Array indexing\n",
    "## One-dimensional arrays\n",
    "One-dimensional NumPy arrays can be accessed more or less like regular python arrays:"
   ]
  },
  {
   "cell_type": "code",
   "execution_count": null,
   "metadata": {
    "id": "_0QWgZKKmdmD",
    "outputId": "970d4703-7051-403c-d0bd-977817ee5678"
   },
   "outputs": [],
   "source": [
    "a = np.array([1, 5, 3, 19, 13, 7, 3])\n",
    "a[3]"
   ]
  },
  {
   "cell_type": "code",
   "execution_count": null,
   "metadata": {
    "id": "Jf9lQrB-mdmF",
    "outputId": "2651cf5f-84ff-4047-a9b9-bbac64fc09d7"
   },
   "outputs": [],
   "source": [
    "a[2:5]"
   ]
  },
  {
   "cell_type": "code",
   "execution_count": null,
   "metadata": {
    "id": "ErH6WqwZmdmF",
    "outputId": "c576d082-9305-4ba7-e713-c58d299a92af"
   },
   "outputs": [],
   "source": [
    "a[2:-1]"
   ]
  },
  {
   "cell_type": "code",
   "execution_count": null,
   "metadata": {
    "id": "vKeRpfxzmdmH",
    "outputId": "2e6f039e-4120-464e-b1fb-0a0380241127"
   },
   "outputs": [],
   "source": [
    "a[:2]"
   ]
  },
  {
   "cell_type": "code",
   "execution_count": null,
   "metadata": {
    "id": "pnX_BUQWmdmI",
    "outputId": "60090525-739c-45ee-e36d-df0c6dd18b17"
   },
   "outputs": [],
   "source": [
    "a[2::2]"
   ]
  },
  {
   "cell_type": "code",
   "execution_count": null,
   "metadata": {
    "id": "f4d8TKTXmdmJ",
    "outputId": "445eff30-99d8-4b9a-96a4-44510727a056"
   },
   "outputs": [],
   "source": [
    "a[::-1]"
   ]
  },
  {
   "cell_type": "markdown",
   "metadata": {
    "id": "njWjktd9mdmK"
   },
   "source": [
    "Of course, you can modify elements:"
   ]
  },
  {
   "cell_type": "code",
   "execution_count": null,
   "metadata": {
    "id": "YHh5xM7fmdmL",
    "outputId": "22027039-acc5-4739-a535-a4bb31f3344b"
   },
   "outputs": [],
   "source": [
    "a[3]=999\n",
    "a"
   ]
  },
  {
   "cell_type": "markdown",
   "metadata": {
    "id": "vOHa5hM0mdmL"
   },
   "source": [
    "You can also modify an `ndarray` slice:"
   ]
  },
  {
   "cell_type": "code",
   "execution_count": null,
   "metadata": {
    "id": "6PoN6fJPmdmM",
    "outputId": "fd50e9a1-7db2-4e52-eefe-ffde2051571c"
   },
   "outputs": [],
   "source": [
    "a[2:5] = [997, 998, 999]\n",
    "a"
   ]
  },
  {
   "cell_type": "markdown",
   "metadata": {
    "id": "lH0bR7IpmdmN"
   },
   "source": [
    "## Differences with regular python arrays\n",
    "Contrary to regular python arrays, if you assign a single value to an `ndarray` slice, it is copied across the whole slice, thanks to broadcasting rules discussed above."
   ]
  },
  {
   "cell_type": "code",
   "execution_count": null,
   "metadata": {
    "id": "eniXjza1mdmN",
    "outputId": "7cfc4596-916c-49b0-ad34-b31094b07383"
   },
   "outputs": [],
   "source": [
    "a[2:5] = -1\n",
    "a"
   ]
  },
  {
   "cell_type": "markdown",
   "metadata": {
    "id": "--wBL8zdmdmN"
   },
   "source": [
    "Also, you cannot grow or shrink `ndarray`s this way:"
   ]
  },
  {
   "cell_type": "code",
   "execution_count": null,
   "metadata": {
    "id": "-D9lQM6lmdmP",
    "outputId": "efaa970b-8770-4e9d-921a-e3480a62a616"
   },
   "outputs": [],
   "source": [
    "try:\n",
    "    a[2:5] = [1,2,3,4,5,6]  # too long\n",
    "except ValueError as e:\n",
    "    print(e)"
   ]
  },
  {
   "cell_type": "markdown",
   "metadata": {
    "id": "Wj63lRSimdmS"
   },
   "source": [
    "You cannot delete elements either:"
   ]
  },
  {
   "cell_type": "code",
   "execution_count": null,
   "metadata": {
    "id": "PeeotHiKmdmT",
    "outputId": "353dfb21-cf7d-40cf-8cce-7d62084499e4"
   },
   "outputs": [],
   "source": [
    "try:\n",
    "    del a[2:5]\n",
    "except ValueError as e:\n",
    "    print(e)"
   ]
  },
  {
   "cell_type": "markdown",
   "metadata": {
    "id": "moJyC1LrmdmU"
   },
   "source": [
    "Last but not least, `ndarray` **slices are actually *views*** on the same data buffer. This means that if you create a slice and modify it, you are actually going to modify the original `ndarray` as well!"
   ]
  },
  {
   "cell_type": "code",
   "execution_count": null,
   "metadata": {
    "id": "01cC_wsBmdmU",
    "outputId": "8a897b78-3ae3-4374-d9e2-f14e28df3163"
   },
   "outputs": [],
   "source": [
    "a_slice = a[2:6]\n",
    "a_slice[1] = 1000\n",
    "a  # the original array was modified!"
   ]
  },
  {
   "cell_type": "code",
   "execution_count": null,
   "metadata": {
    "id": "qQOsguEFmdmW",
    "outputId": "3c6e7880-d3b7-4867-cbdb-2694fdea481c"
   },
   "outputs": [],
   "source": [
    "a[3] = 2000\n",
    "a_slice  # similarly, modifying the original array modifies the slice!"
   ]
  },
  {
   "cell_type": "markdown",
   "metadata": {
    "id": "FDuE2XGxmdmX"
   },
   "source": [
    "If you want a copy of the data, you need to use the `copy` method:"
   ]
  },
  {
   "cell_type": "code",
   "execution_count": null,
   "metadata": {
    "id": "YmDSe5MamdmY",
    "outputId": "27d4bc66-62eb-4b59-d5e1-36b2e3db73c8"
   },
   "outputs": [],
   "source": [
    "another_slice = a[2:6].copy()\n",
    "another_slice[1] = 3000\n",
    "a  # the original array is untouched"
   ]
  },
  {
   "cell_type": "code",
   "execution_count": null,
   "metadata": {
    "id": "TIIet0wJmdmZ",
    "outputId": "5929c6f0-ed5f-403f-fc99-72b6086e6ecb"
   },
   "outputs": [],
   "source": [
    "a[3] = 4000\n",
    "another_slice  # similarly, modifying the original array does not affect the slice copy"
   ]
  },
  {
   "cell_type": "markdown",
   "metadata": {
    "id": "v5etvFlNmdma"
   },
   "source": [
    "## Multidimensional arrays\n",
    "Multidimensional arrays can be accessed in a similar way by providing an index or slice for each axis, separated by commas:"
   ]
  },
  {
   "cell_type": "code",
   "execution_count": null,
   "metadata": {
    "id": "wu8Q34kImdmb",
    "outputId": "75daaa7b-d7d3-430c-8965-db51ef1bbc94"
   },
   "outputs": [],
   "source": [
    "b = np.arange(48).reshape(4, 12)\n",
    "b"
   ]
  },
  {
   "cell_type": "code",
   "execution_count": null,
   "metadata": {
    "id": "dC33PwpYmdmd",
    "outputId": "795e7bb9-d839-42ed-cafd-d921575940ba"
   },
   "outputs": [],
   "source": [
    "b[1, 2]  # row 1, col 2"
   ]
  },
  {
   "cell_type": "code",
   "execution_count": null,
   "metadata": {
    "id": "TUJqstLqmdme",
    "outputId": "eac927de-bd1e-41ed-b3f0-2b806d4a5da5"
   },
   "outputs": [],
   "source": [
    "b[1, :]  # row 1, all columns"
   ]
  },
  {
   "cell_type": "code",
   "execution_count": null,
   "metadata": {
    "id": "GfeHWatimdmj",
    "outputId": "221b0ce0-4908-429b-aeda-ca37c3a168d1"
   },
   "outputs": [],
   "source": [
    "b[:, 1]  # all rows, column 1"
   ]
  },
  {
   "cell_type": "markdown",
   "metadata": {
    "id": "Kh4VLUEWmdmk"
   },
   "source": [
    "**Caution**: note the subtle difference between these two expressions: "
   ]
  },
  {
   "cell_type": "code",
   "execution_count": null,
   "metadata": {
    "id": "AN68HMGMmdml",
    "outputId": "2f653ff2-6338-4ce2-ae2c-e79c8897c5f7",
    "scrolled": true
   },
   "outputs": [],
   "source": [
    "b[1, :]"
   ]
  },
  {
   "cell_type": "code",
   "execution_count": null,
   "metadata": {
    "id": "-a1p9vVJmdmm",
    "outputId": "5116f465-ac39-4505-ff8e-47247992ce7e"
   },
   "outputs": [],
   "source": [
    "b[1:2, :]"
   ]
  },
  {
   "cell_type": "markdown",
   "metadata": {
    "id": "y4SKFFLTmdmn"
   },
   "source": [
    "The first expression returns row 1 as a 1D array of shape `(12,)`, while the second returns that same row as a 2D array of shape `(1, 12)`."
   ]
  },
  {
   "cell_type": "markdown",
   "metadata": {
    "id": "mHevbx60mdmo"
   },
   "source": [
    "## Fancy indexing\n",
    "You may also specify a list of indices that you are interested in. This is referred to as *fancy indexing*."
   ]
  },
  {
   "cell_type": "code",
   "execution_count": null,
   "metadata": {
    "id": "faSA_waumdmp",
    "outputId": "c09eb5e3-b6d7-4470-a34a-78c13cabc1ea",
    "scrolled": true
   },
   "outputs": [],
   "source": [
    "b[(0,2), 2:5]  # rows 0 and 2, columns 2 to 4 (5-1)"
   ]
  },
  {
   "cell_type": "code",
   "execution_count": null,
   "metadata": {
    "id": "VKa1UWZqmdmq",
    "outputId": "0155a1ec-7b49-44a4-8e44-2ce668133b9d"
   },
   "outputs": [],
   "source": [
    "b[:, (-1, 2, -1)]  # all rows, columns -1 (last), 2 and -1 (again, and in this order)"
   ]
  },
  {
   "cell_type": "markdown",
   "metadata": {
    "id": "a-1_BMD2mdms"
   },
   "source": [
    "If you provide multiple index arrays, you get a 1D `ndarray` containing the values of the elements at the specified coordinates."
   ]
  },
  {
   "cell_type": "code",
   "execution_count": null,
   "metadata": {
    "id": "A_1QrSRrmdmt",
    "outputId": "87f47e01-4849-4649-fe53-e255c8ae283d"
   },
   "outputs": [],
   "source": [
    "b[(-1, 2, -1, 2), (5, 9, 1, 9)]  # returns a 1D array with b[-1, 5], b[2, 9], b[-1, 1] and b[2, 9] (again)"
   ]
  },
  {
   "cell_type": "markdown",
   "metadata": {
    "id": "Z2AbcSCXmdmt"
   },
   "source": [
    "## Higher dimensions\n",
    "Everything works just as well with higher dimensional arrays, but it's useful to look at a few examples:"
   ]
  },
  {
   "cell_type": "code",
   "execution_count": null,
   "metadata": {
    "id": "OE-5yQQmmdmu",
    "outputId": "29d7da69-cbec-40b1-c37f-f7d1937213a3"
   },
   "outputs": [],
   "source": [
    "c = b.reshape(4,2,6)\n",
    "c"
   ]
  },
  {
   "cell_type": "code",
   "execution_count": null,
   "metadata": {
    "id": "CAHJ0hj_mdmv",
    "outputId": "d70c17b3-b88a-4ce2-e95d-46dc54d73967"
   },
   "outputs": [],
   "source": [
    "c[2, 1, 4]  # matrix 2, row 1, col 4"
   ]
  },
  {
   "cell_type": "code",
   "execution_count": null,
   "metadata": {
    "id": "BWU8O37Tmdmw",
    "outputId": "afe7f361-bfa3-4ae5-86f3-3ec6ca922952"
   },
   "outputs": [],
   "source": [
    "c[2, :, 3]  # matrix 2, all rows, col 3"
   ]
  },
  {
   "cell_type": "markdown",
   "metadata": {
    "id": "zW4KKGG6mdmz"
   },
   "source": [
    "If you omit coordinates for some axes, then all elements in these axes are returned:"
   ]
  },
  {
   "cell_type": "code",
   "execution_count": null,
   "metadata": {
    "id": "zTUtnrhqmdm0",
    "outputId": "9569cbd7-51c1-4c7f-b4e4-d6af0caaec02"
   },
   "outputs": [],
   "source": [
    "c[2, 1]  # Return matrix 2, row 1, all columns.  This is equivalent to c[2, 1, :]"
   ]
  },
  {
   "cell_type": "markdown",
   "metadata": {
    "id": "X6Yp9IzVmdm2"
   },
   "source": [
    "## Ellipsis (`...`)\n",
    "You may also write an ellipsis (`...`) to ask that all non-specified axes be entirely included."
   ]
  },
  {
   "cell_type": "code",
   "execution_count": null,
   "metadata": {
    "id": "ViDu1D8emdm2",
    "outputId": "985d7311-11df-4ceb-87c4-5c7cdab26790"
   },
   "outputs": [],
   "source": [
    "c[2, ...]  #  matrix 2, all rows, all columns.  This is equivalent to c[2, :, :]"
   ]
  },
  {
   "cell_type": "code",
   "execution_count": null,
   "metadata": {
    "id": "fpNYcXKfmdm2",
    "outputId": "bce73b17-54f9-4fcc-ab0c-2a9332fef1dc"
   },
   "outputs": [],
   "source": [
    "c[2, 1, ...]  # matrix 2, row 1, all columns.  This is equivalent to c[2, 1, :]"
   ]
  },
  {
   "cell_type": "code",
   "execution_count": null,
   "metadata": {
    "id": "tYFrMfOImdm3",
    "outputId": "052b675d-ac99-40d3-fb22-37f317f10bea"
   },
   "outputs": [],
   "source": [
    "c[2, ..., 3]  # matrix 2, all rows, column 3.  This is equivalent to c[2, :, 3]"
   ]
  },
  {
   "cell_type": "code",
   "execution_count": null,
   "metadata": {
    "id": "apQdzoMEmdm4",
    "outputId": "58f43e38-09f9-424d-cb61-afc01d140f32"
   },
   "outputs": [],
   "source": [
    "c[..., 3]  # all matrices, all rows, column 3.  This is equivalent to c[:, :, 3]"
   ]
  },
  {
   "cell_type": "markdown",
   "metadata": {
    "id": "P9pd8bNxmdm5"
   },
   "source": [
    "## Boolean indexing\n",
    "You can also provide an `ndarray` of boolean values on one axis to specify the indices that you want to access."
   ]
  },
  {
   "cell_type": "code",
   "execution_count": null,
   "metadata": {
    "id": "PZH36ld4mdm5",
    "outputId": "c214a18f-77a8-4894-b50e-b9b35058f538"
   },
   "outputs": [],
   "source": [
    "b = np.arange(48).reshape(4, 12)\n",
    "b"
   ]
  },
  {
   "cell_type": "code",
   "execution_count": null,
   "metadata": {
    "id": "_yEIh0vQmdm6",
    "outputId": "6fcb98f1-74c3-4276-f0e6-b1d9b03b7496"
   },
   "outputs": [],
   "source": [
    "rows_on = np.array([True, False, True, False])\n",
    "b[rows_on, :]  # Rows 0 and 2, all columns. Equivalent to b[(0, 2), :]"
   ]
  },
  {
   "cell_type": "code",
   "execution_count": null,
   "metadata": {
    "id": "sZTf7qJKmdm7",
    "outputId": "423f9a60-fa7c-480f-9252-f6520efb771d"
   },
   "outputs": [],
   "source": [
    "cols_on = np.array([False, True, False] * 4)\n",
    "b[:, cols_on]  # All rows, columns 1, 4, 7 and 10"
   ]
  },
  {
   "cell_type": "markdown",
   "metadata": {
    "id": "eH4anYeVmdm8"
   },
   "source": [
    "## `np.ix_`\n",
    "You cannot use boolean indexing this way on multiple axes, but you can work around this by using the `ix_` function:"
   ]
  },
  {
   "cell_type": "code",
   "execution_count": null,
   "metadata": {
    "id": "K-2l4386mdm9",
    "outputId": "ea6f2ca9-9fe0-4fb7-ccb0-5d8c82832aa7"
   },
   "outputs": [],
   "source": [
    "b[np.ix_(rows_on, cols_on)]"
   ]
  },
  {
   "cell_type": "code",
   "execution_count": null,
   "metadata": {
    "id": "MYThcB0Qmdm-",
    "outputId": "9c642ff6-38aa-4151-d24b-ff2c09098ee9"
   },
   "outputs": [],
   "source": [
    "np.ix_(rows_on, cols_on)"
   ]
  },
  {
   "cell_type": "markdown",
   "metadata": {
    "id": "SpyDtEycmdm_"
   },
   "source": [
    "If you use a boolean array that has the same shape as the `ndarray`, then you get in return a 1D array containing all the values that have `True` at their coordinate. This is generally used along with conditional operators:"
   ]
  },
  {
   "cell_type": "code",
   "execution_count": null,
   "metadata": {
    "id": "XFus-Hehmdm_",
    "outputId": "2380f9af-b331-4b15-dd2b-92d76381c542"
   },
   "outputs": [],
   "source": [
    "b[b % 3 == 1]"
   ]
  },
  {
   "cell_type": "markdown",
   "metadata": {
    "id": "lbjJIbJrmdnB"
   },
   "source": [
    "# Iterating\n",
    "Iterating over `ndarray`s is very similar to iterating over regular python arrays. Note that iterating over multidimensional arrays is done with respect to the first axis."
   ]
  },
  {
   "cell_type": "code",
   "execution_count": null,
   "metadata": {
    "id": "mHMWo6RHmdnG",
    "outputId": "8b9cc33b-39d8-42a8-f6ad-92b86eca8c1c"
   },
   "outputs": [],
   "source": [
    "c = np.arange(24).reshape(2, 3, 4)  # A 3D array (composed of two 3x4 matrices)\n",
    "c"
   ]
  },
  {
   "cell_type": "code",
   "execution_count": null,
   "metadata": {
    "id": "6QtNKxJjmdnH",
    "outputId": "a4da1c51-e928-424a-b1da-ee13a3152320"
   },
   "outputs": [],
   "source": [
    "for m in c:\n",
    "    print(\"Item:\")\n",
    "    print(m)"
   ]
  },
  {
   "cell_type": "code",
   "execution_count": null,
   "metadata": {
    "id": "gpNSwN3smdnI",
    "outputId": "1cb34a36-01c2-4612-abd1-c24084e1edc7"
   },
   "outputs": [],
   "source": [
    "for i in range(len(c)):  # Note that len(c) == c.shape[0]\n",
    "    print(\"Item:\")\n",
    "    print(c[i])"
   ]
  },
  {
   "cell_type": "markdown",
   "metadata": {
    "id": "NdwhMGTxmdnJ"
   },
   "source": [
    "If you want to iterate on *all* elements in the `ndarray`, simply iterate over the `flat` attribute:"
   ]
  },
  {
   "cell_type": "code",
   "execution_count": null,
   "metadata": {
    "id": "w-eKyfplmdnJ",
    "outputId": "ab7a7056-ac28-49d7-b777-8faffea277f3"
   },
   "outputs": [],
   "source": [
    "for i in c.flat:\n",
    "    print(\"Item:\", i)"
   ]
  },
  {
   "cell_type": "markdown",
   "metadata": {
    "id": "UPsXr8TTmdnK"
   },
   "source": [
    "# Stacking arrays\n",
    "It is often useful to stack together different arrays. NumPy offers several functions to do just that. Let's start by creating a few arrays."
   ]
  },
  {
   "cell_type": "code",
   "execution_count": null,
   "metadata": {
    "id": "k4_5nkiYmdnL",
    "outputId": "e2c4cef0-c5c8-41b1-a01d-9fd300534793"
   },
   "outputs": [],
   "source": [
    "q1 = np.full((3,4), 1.0)\n",
    "q1"
   ]
  },
  {
   "cell_type": "code",
   "execution_count": null,
   "metadata": {
    "id": "n_zxeWsamdnM",
    "outputId": "864bf23c-5afa-415a-da7e-3cbfaeb93bcb"
   },
   "outputs": [],
   "source": [
    "q2 = np.full((4,4), 2.0)\n",
    "q2"
   ]
  },
  {
   "cell_type": "code",
   "execution_count": null,
   "metadata": {
    "id": "HszeRldCmdnN",
    "outputId": "7c5b3b59-b0f3-44bb-dc0d-78444530db5e"
   },
   "outputs": [],
   "source": [
    "q3 = np.full((3,4), 3.0)\n",
    "q3"
   ]
  },
  {
   "cell_type": "markdown",
   "metadata": {
    "id": "1G4XKWKhmdnN"
   },
   "source": [
    "## `vstack`\n",
    "Now let's stack them vertically using `vstack`:"
   ]
  },
  {
   "cell_type": "code",
   "execution_count": null,
   "metadata": {
    "id": "ECG3LZAfmdnO",
    "outputId": "27180c7d-8732-4ee6-b63f-c1b2fcc74405"
   },
   "outputs": [],
   "source": [
    "q4 = np.vstack((q1, q2, q3))\n",
    "q4"
   ]
  },
  {
   "cell_type": "code",
   "execution_count": null,
   "metadata": {
    "id": "jeQYZuIjmdnO",
    "outputId": "ac80dc27-ae57-453c-8c54-1aa756d5d999"
   },
   "outputs": [],
   "source": [
    "q4.shape"
   ]
  },
  {
   "cell_type": "markdown",
   "metadata": {
    "id": "YHCs_hEWmdnP"
   },
   "source": [
    "It was possible because q1, q2 and q3 all have the same shape (except for the vertical axis, but that's ok since we are stacking on that axis).\n",
    "\n",
    "## `hstack`\n",
    "We can also stack arrays horizontally using `hstack`:"
   ]
  },
  {
   "cell_type": "code",
   "execution_count": null,
   "metadata": {
    "id": "ja9TirE5mdnP",
    "outputId": "3bbff141-de58-4d46-c869-fa5ea1474016"
   },
   "outputs": [],
   "source": [
    "q5 = np.hstack((q1, q3))\n",
    "q5"
   ]
  },
  {
   "cell_type": "code",
   "execution_count": null,
   "metadata": {
    "id": "cVeVzLf_mdnP",
    "outputId": "7e9a8ce0-f163-4c27-87df-fcfd45414d0c"
   },
   "outputs": [],
   "source": [
    "q5.shape"
   ]
  },
  {
   "cell_type": "markdown",
   "metadata": {
    "id": "rwVqiDibmdnQ"
   },
   "source": [
    "It is possible because q1 and q3 both have 3 rows. But since q2 has 4 rows, it cannot be stacked horizontally with q1 and q3:"
   ]
  },
  {
   "cell_type": "code",
   "execution_count": null,
   "metadata": {
    "id": "cS7DvLprmdnQ",
    "outputId": "9948fa08-852a-4d52-f00d-1bb99cca4835"
   },
   "outputs": [],
   "source": [
    "try:\n",
    "    q5 = np.hstack((q1, q2, q3))\n",
    "except ValueError as e:\n",
    "    print(e)"
   ]
  },
  {
   "cell_type": "markdown",
   "metadata": {
    "id": "EjmhnX_rmdnT"
   },
   "source": [
    "## `concatenate`\n",
    "The `concatenate` function stacks arrays along any given existing axis."
   ]
  },
  {
   "cell_type": "code",
   "execution_count": null,
   "metadata": {
    "id": "5u5F5m8WmdnV",
    "outputId": "52fc9e19-dee0-444a-a0ad-98bd278d7b88"
   },
   "outputs": [],
   "source": [
    "q7 = np.concatenate((q1, q2, q3), axis=0)  # Equivalent to vstack\n",
    "q7"
   ]
  },
  {
   "cell_type": "code",
   "execution_count": null,
   "metadata": {
    "id": "0swuQMsfmdnW",
    "outputId": "ea9536da-33be-4036-f5df-3d6fb00201fe"
   },
   "outputs": [],
   "source": [
    "q7.shape"
   ]
  },
  {
   "cell_type": "markdown",
   "metadata": {
    "id": "f0ZAtaYhmdnX"
   },
   "source": [
    "As you might guess, `hstack` is equivalent to calling `concatenate` with `axis=1`."
   ]
  },
  {
   "cell_type": "markdown",
   "metadata": {
    "id": "0CwK8QvZmdnt"
   },
   "source": [
    "## `stack`\n",
    "The `stack` function stacks arrays along a new axis. All arrays have to have the same shape."
   ]
  },
  {
   "cell_type": "code",
   "execution_count": null,
   "metadata": {
    "id": "v2LZYBfDmdnu",
    "outputId": "27b661a6-21d7-4f01-cc85-2b6e36121f93"
   },
   "outputs": [],
   "source": [
    "q8 = np.stack((q1, q3))\n",
    "q8"
   ]
  },
  {
   "cell_type": "code",
   "execution_count": null,
   "metadata": {
    "id": "TKqVJA9nmdnu",
    "outputId": "39defd09-00e7-446d-d6c8-c5c76597e855"
   },
   "outputs": [],
   "source": [
    "q8.shape"
   ]
  },
  {
   "cell_type": "markdown",
   "metadata": {
    "id": "hVGht-Kjmdnu"
   },
   "source": [
    "# Splitting arrays\n",
    "Splitting is the opposite of stacking. For example, let's use the `vsplit` function to split a matrix vertically.\n",
    "\n",
    "First let's create a 6x4 matrix:"
   ]
  },
  {
   "cell_type": "code",
   "execution_count": null,
   "metadata": {
    "id": "kMXDAmH6mdnv",
    "outputId": "b084919f-08ba-496f-d249-43fc2992cfa6"
   },
   "outputs": [],
   "source": [
    "r = np.arange(24).reshape(6,4)\n",
    "r"
   ]
  },
  {
   "cell_type": "markdown",
   "metadata": {
    "id": "AzOWXuC8mdnv"
   },
   "source": [
    "Now let's split it in three equal parts, vertically:"
   ]
  },
  {
   "cell_type": "code",
   "execution_count": null,
   "metadata": {
    "id": "Pun89_Qymdnv",
    "outputId": "4ce60106-5eb7-4d1a-e3e0-b3c824ba77e7"
   },
   "outputs": [],
   "source": [
    "r1, r2, r3 = np.vsplit(r, 3)\n",
    "r1"
   ]
  },
  {
   "cell_type": "code",
   "execution_count": null,
   "metadata": {
    "id": "f_0A4gD2mdnw",
    "outputId": "3a2492a7-e56a-4620-ca4b-837e7a0b3bdd"
   },
   "outputs": [],
   "source": [
    "r2"
   ]
  },
  {
   "cell_type": "code",
   "execution_count": null,
   "metadata": {
    "id": "XEbIV3qQmdnx",
    "outputId": "0ad85432-0916-439a-f523-2857a427bc5a"
   },
   "outputs": [],
   "source": [
    "r3"
   ]
  },
  {
   "cell_type": "markdown",
   "metadata": {
    "id": "2MjwnEgamdny"
   },
   "source": [
    "There is also a `split` function which splits an array along any given axis. Calling `vsplit` is equivalent to calling `split` with `axis=0`. There is also an `hsplit` function, equivalent to calling `split` with `axis=1`:"
   ]
  },
  {
   "cell_type": "code",
   "execution_count": null,
   "metadata": {
    "id": "lGwIzJLpmdn1",
    "outputId": "b1a2a343-0fde-4390-a12d-1972f2aeb261"
   },
   "outputs": [],
   "source": [
    "r4, r5 = np.hsplit(r, 2)\n",
    "r4"
   ]
  },
  {
   "cell_type": "code",
   "execution_count": null,
   "metadata": {
    "id": "1s4kQDqgmdn3",
    "outputId": "83980880-47f8-4322-aab7-ab17be13118a"
   },
   "outputs": [],
   "source": [
    "r5"
   ]
  },
  {
   "cell_type": "markdown",
   "metadata": {
    "id": "2eXemY4Gmdn4"
   },
   "source": [
    "# Transposing arrays\n",
    "The `transpose` method creates a new view on an `ndarray`'s data, with axes permuted in the given order.\n",
    "\n",
    "For example, let's create a 3D array:"
   ]
  },
  {
   "cell_type": "code",
   "execution_count": null,
   "metadata": {
    "id": "N1J_rGcvmdn4",
    "outputId": "5b709e8c-2e24-4b1d-a866-afaf9ce82d55"
   },
   "outputs": [],
   "source": [
    "t = np.arange(24).reshape(4,2,3)\n",
    "t"
   ]
  },
  {
   "cell_type": "markdown",
   "metadata": {
    "id": "1sGzgopTmdn5"
   },
   "source": [
    "Now let's create an `ndarray` such that the axes `0, 1, 2` (depth, height, width) are re-ordered to `1, 2, 0` (depth→width, height→depth, width→height):"
   ]
  },
  {
   "cell_type": "code",
   "execution_count": null,
   "metadata": {
    "id": "guGZUp8umdn5",
    "outputId": "c2586c77-f7cb-4417-96c8-3d19768aa9d0"
   },
   "outputs": [],
   "source": [
    "t1 = t.transpose((1,2,0))\n",
    "t1"
   ]
  },
  {
   "cell_type": "code",
   "execution_count": null,
   "metadata": {
    "id": "iJ3PnEPGmdn6",
    "outputId": "00d0f6fc-3311-42fd-880a-d94ef9d92742"
   },
   "outputs": [],
   "source": [
    "t1.shape"
   ]
  },
  {
   "cell_type": "markdown",
   "metadata": {
    "id": "q5QnIfpUmdn7"
   },
   "source": [
    "By default, `transpose` reverses the order of the dimensions:"
   ]
  },
  {
   "cell_type": "code",
   "execution_count": null,
   "metadata": {
    "id": "OgAy15Dwmdn8",
    "outputId": "e498e66c-d0d8-4abd-f396-3231ad043e0f"
   },
   "outputs": [],
   "source": [
    "t2 = t.transpose()  # equivalent to t.transpose((2, 1, 0))\n",
    "t2"
   ]
  },
  {
   "cell_type": "code",
   "execution_count": null,
   "metadata": {
    "id": "mGhK8-o8mdn9",
    "outputId": "5447bf36-2e1e-487b-9b06-d0f116775a9c"
   },
   "outputs": [],
   "source": [
    "t2.shape"
   ]
  },
  {
   "cell_type": "markdown",
   "metadata": {
    "id": "4dejNJD9mdn9"
   },
   "source": [
    "NumPy provides a convenience function `swapaxes` to swap two axes. For example, let's create a new view of `t` with depth and height swapped:"
   ]
  },
  {
   "cell_type": "code",
   "execution_count": null,
   "metadata": {
    "id": "LVrTii6ymdn-",
    "outputId": "ffd6c079-cb3b-4201-fea8-bae05542f2de"
   },
   "outputs": [],
   "source": [
    "t3 = t.swapaxes(0,1)  # equivalent to t.transpose((1, 0, 2))\n",
    "t3"
   ]
  },
  {
   "cell_type": "code",
   "execution_count": null,
   "metadata": {
    "id": "O4gjs8w8mdn-",
    "outputId": "0b3fe154-3913-4591-ccb7-aa64fbd126d0"
   },
   "outputs": [],
   "source": [
    "t3.shape"
   ]
  },
  {
   "cell_type": "markdown",
   "metadata": {
    "id": "5GUj-bJDmdn-"
   },
   "source": [
    "# Linear algebra\n",
    "NumPy 2D arrays can be used to represent matrices efficiently in python. We will just quickly go through some of the main matrix operations available. For more details about Linear Algebra, vectors and matrices, go through the [Linear Algebra tutorial](math_linear_algebra.ipynb).\n",
    "\n",
    "## Matrix transpose\n",
    "The `T` attribute is equivalent to calling `transpose()` when the rank is ≥2:"
   ]
  },
  {
   "cell_type": "code",
   "execution_count": null,
   "metadata": {
    "id": "nvWGqDg6mdn-",
    "outputId": "2391856c-5e3c-4204-aa88-f0e03a19adeb"
   },
   "outputs": [],
   "source": [
    "m1 = np.arange(10).reshape(2,5)\n",
    "m1"
   ]
  },
  {
   "cell_type": "code",
   "execution_count": null,
   "metadata": {
    "id": "nu54ZI18mdn_",
    "outputId": "3e174426-15c4-4c9c-c17e-f45ab8a47641"
   },
   "outputs": [],
   "source": [
    "m1.T"
   ]
  },
  {
   "cell_type": "markdown",
   "metadata": {
    "id": "t8O-DcyvmdoA"
   },
   "source": [
    "The `T` attribute has no effect on rank 0 (empty) or rank 1 arrays:"
   ]
  },
  {
   "cell_type": "code",
   "execution_count": null,
   "metadata": {
    "id": "XrnK-u86mdoA",
    "outputId": "e466cb5b-cc05-47d0-94ef-b0d537ec44a0",
    "scrolled": true
   },
   "outputs": [],
   "source": [
    "m2 = np.arange(5)\n",
    "m2"
   ]
  },
  {
   "cell_type": "code",
   "execution_count": null,
   "metadata": {
    "id": "xoENhLMdmdoB",
    "outputId": "1734a882-e6ed-43b0-d1fa-25416c36fee9",
    "scrolled": true
   },
   "outputs": [],
   "source": [
    "m2.T"
   ]
  },
  {
   "cell_type": "markdown",
   "metadata": {
    "id": "WtPVLOc-mdoB"
   },
   "source": [
    "We can get the desired transposition by first reshaping the 1D array to a single-row matrix (2D):"
   ]
  },
  {
   "cell_type": "code",
   "execution_count": null,
   "metadata": {
    "id": "gNe9sHnhmdoB",
    "outputId": "9e1bea16-f9b6-4383-f130-a00eb434de2a"
   },
   "outputs": [],
   "source": [
    "m2r = m2.reshape(1,5)\n",
    "m2r"
   ]
  },
  {
   "cell_type": "code",
   "execution_count": null,
   "metadata": {
    "id": "RdzykQLvmdoC",
    "outputId": "48f72f53-8355-4991-9835-32649a8da7d6"
   },
   "outputs": [],
   "source": [
    "m2r.T"
   ]
  },
  {
   "cell_type": "markdown",
   "metadata": {
    "id": "sia5lES9mdoC"
   },
   "source": [
    "## Matrix multiplication\n",
    "Let's create two matrices and execute a [matrix multiplication](https://en.wikipedia.org/wiki/Matrix_multiplication) using the `dot()` method."
   ]
  },
  {
   "cell_type": "code",
   "execution_count": null,
   "metadata": {
    "id": "vO5IKyhomdoC",
    "outputId": "e5c0ae36-f3e8-437c-c4d5-5d2f81f05d4a"
   },
   "outputs": [],
   "source": [
    "n1 = np.arange(10).reshape(2, 5)\n",
    "n1"
   ]
  },
  {
   "cell_type": "code",
   "execution_count": null,
   "metadata": {
    "id": "GDOfQdM9mdoE",
    "outputId": "af02751c-f463-4983-9483-d953a0e4dd86"
   },
   "outputs": [],
   "source": [
    "n2 = np.arange(15).reshape(5,3)\n",
    "n2"
   ]
  },
  {
   "cell_type": "code",
   "execution_count": null,
   "metadata": {
    "id": "rg-UHzl6mdoF",
    "outputId": "8474f0bc-b227-4020-9e00-c517a1129a8a"
   },
   "outputs": [],
   "source": [
    "n1.dot(n2)"
   ]
  },
  {
   "cell_type": "markdown",
   "metadata": {
    "id": "ELbLQaFqmdoH"
   },
   "source": [
    "**Caution**: as mentioned previously, `n1*n2` is *not* a matrix multiplication, it is an elementwise product (also called a [Hadamard product](https://en.wikipedia.org/wiki/Hadamard_product_(matrices)))."
   ]
  },
  {
   "cell_type": "markdown",
   "metadata": {
    "id": "FOJceXbumdoH"
   },
   "source": [
    "## Matrix inverse and pseudo-inverse\n",
    "Many of the linear algebra functions are available in the `numpy.linalg` module, in particular the `inv` function to compute a square matrix's inverse:"
   ]
  },
  {
   "cell_type": "code",
   "execution_count": null,
   "metadata": {
    "id": "HCXpeplHmdoH",
    "outputId": "091a8b0a-b088-4100-f03c-1684ebaf6352"
   },
   "outputs": [],
   "source": [
    "import numpy.linalg as linalg\n",
    "\n",
    "m3 = np.array([[1,2,3],[5,7,11],[21,29,31]])\n",
    "m3"
   ]
  },
  {
   "cell_type": "code",
   "execution_count": null,
   "metadata": {
    "id": "kGaw9CWOmdoI",
    "outputId": "006369bc-1eae-4785-8c7e-03ef83f588d8"
   },
   "outputs": [],
   "source": [
    "linalg.inv(m3)"
   ]
  },
  {
   "cell_type": "markdown",
   "metadata": {
    "id": "8wOPb2-YmdoI"
   },
   "source": [
    "You can also compute the [pseudoinverse](https://en.wikipedia.org/wiki/Moore%E2%80%93Penrose_pseudoinverse) using `pinv`:"
   ]
  },
  {
   "cell_type": "code",
   "execution_count": null,
   "metadata": {
    "id": "gdeuVN4imdoI",
    "outputId": "b94d6558-abb2-4e1c-ac9c-082e7a202a25"
   },
   "outputs": [],
   "source": [
    "linalg.pinv(m3)"
   ]
  },
  {
   "cell_type": "markdown",
   "metadata": {
    "id": "QROch39MmdoJ"
   },
   "source": [
    "## Identity matrix\n",
    "The product of a matrix by its inverse returns the identity matrix (with small floating point errors):"
   ]
  },
  {
   "cell_type": "code",
   "execution_count": null,
   "metadata": {
    "id": "bILxuX5BmdoJ",
    "outputId": "f5860c0c-5ef2-485d-8e96-82b7ab1a35d0"
   },
   "outputs": [],
   "source": [
    "m3.dot(linalg.inv(m3))"
   ]
  },
  {
   "cell_type": "markdown",
   "metadata": {
    "id": "Fexy3sGRmdoJ"
   },
   "source": [
    "You can create an identity matrix of size NxN by calling `eye(N)` function:"
   ]
  },
  {
   "cell_type": "code",
   "execution_count": null,
   "metadata": {
    "id": "pNN8JRtCmdoK",
    "outputId": "5ebc8dcd-ece4-477f-8652-243d72b1492f"
   },
   "outputs": [],
   "source": [
    "np.eye(3)"
   ]
  },
  {
   "cell_type": "markdown",
   "metadata": {
    "id": "IS4cxl6AmdoK"
   },
   "source": [
    "## QR decomposition\n",
    "The `qr` function computes the [QR decomposition](https://en.wikipedia.org/wiki/QR_decomposition) of a matrix:"
   ]
  },
  {
   "cell_type": "code",
   "execution_count": null,
   "metadata": {
    "id": "LhAmnP-KmdoM",
    "outputId": "f5c2cbae-02fd-4c0f-82dc-8a24a5b81330"
   },
   "outputs": [],
   "source": [
    "q, r = linalg.qr(m3)\n",
    "q"
   ]
  },
  {
   "cell_type": "code",
   "execution_count": null,
   "metadata": {
    "id": "k6ewYLonmdoO",
    "outputId": "8a9d6066-2037-4166-f80b-d886526742fc"
   },
   "outputs": [],
   "source": [
    "r"
   ]
  },
  {
   "cell_type": "code",
   "execution_count": null,
   "metadata": {
    "id": "vmk6Mk0BmdoP",
    "outputId": "fdc1cbcc-e78c-4752-b980-efa78037b0e9"
   },
   "outputs": [],
   "source": [
    "q.dot(r)  # q.r equals m3"
   ]
  },
  {
   "cell_type": "markdown",
   "metadata": {
    "id": "WuRah1RwmdoQ"
   },
   "source": [
    "## Determinant\n",
    "The `det` function computes the [matrix determinant](https://en.wikipedia.org/wiki/Determinant):"
   ]
  },
  {
   "cell_type": "code",
   "execution_count": null,
   "metadata": {
    "id": "cE137mcwmdoQ",
    "outputId": "04a37f8e-a3c6-4d0a-a66f-2f611bbc44b9"
   },
   "outputs": [],
   "source": [
    "linalg.det(m3)  # Computes the matrix determinant"
   ]
  },
  {
   "cell_type": "markdown",
   "metadata": {
    "id": "uBmaZAAbmdoR"
   },
   "source": [
    "## Eigenvalues and eigenvectors\n",
    "The `eig` function computes the [eigenvalues and eigenvectors](https://en.wikipedia.org/wiki/Eigenvalues_and_eigenvectors) of a square matrix:"
   ]
  },
  {
   "cell_type": "code",
   "execution_count": null,
   "metadata": {
    "id": "4qJZmHrYmdoS",
    "outputId": "74cb7d21-2c85-4e69-9c91-f027fb403701"
   },
   "outputs": [],
   "source": [
    "eigenvalues, eigenvectors = linalg.eig(m3)\n",
    "eigenvalues # λ"
   ]
  },
  {
   "cell_type": "code",
   "execution_count": null,
   "metadata": {
    "id": "LFa-2DLymdoS",
    "outputId": "b45a32dc-6882-4220-c626-7ca08e8cfc61"
   },
   "outputs": [],
   "source": [
    "eigenvectors # v"
   ]
  },
  {
   "cell_type": "code",
   "execution_count": null,
   "metadata": {
    "id": "nGt77LhRmdoS",
    "outputId": "057d18b9-cefd-4af5-a997-2dd210a7b7f8"
   },
   "outputs": [],
   "source": [
    "m3.dot(eigenvectors) - eigenvalues * eigenvectors  # m3.v - λ*v = 0"
   ]
  },
  {
   "cell_type": "markdown",
   "metadata": {
    "id": "W7c3hbyGmdoT"
   },
   "source": [
    "## Singular Value Decomposition\n",
    "The `svd` function takes a matrix and returns its [singular value decomposition](https://en.wikipedia.org/wiki/Singular_value_decomposition):"
   ]
  },
  {
   "cell_type": "code",
   "execution_count": null,
   "metadata": {
    "id": "nh4Pfa6hmdoT",
    "outputId": "7103221e-70b6-48dd-e0f2-6fa741297840"
   },
   "outputs": [],
   "source": [
    "m4 = np.array([[1,0,0,0,2], [0,0,3,0,0], [0,0,0,0,0], [0,2,0,0,0]])\n",
    "m4"
   ]
  },
  {
   "cell_type": "code",
   "execution_count": null,
   "metadata": {
    "id": "ddP7TadPmdoT",
    "outputId": "5eacc592-4cc7-434a-9d33-ea699dcc8911"
   },
   "outputs": [],
   "source": [
    "U, S_diag, V = linalg.svd(m4)\n",
    "U"
   ]
  },
  {
   "cell_type": "code",
   "execution_count": null,
   "metadata": {
    "id": "Ic728paXmdoW",
    "outputId": "23936fc4-9e3c-4de7-adf5-6da34b9ac5c8"
   },
   "outputs": [],
   "source": [
    "S_diag"
   ]
  },
  {
   "cell_type": "markdown",
   "metadata": {
    "id": "q_bMbMH5mdoX"
   },
   "source": [
    "The `svd` function just returns the values in the diagonal of Σ, but we want the full Σ matrix, so let's create it:"
   ]
  },
  {
   "cell_type": "code",
   "execution_count": null,
   "metadata": {
    "id": "rfFzlClrmdoY",
    "outputId": "f677d821-f083-4737-9952-8558732c1807"
   },
   "outputs": [],
   "source": [
    "S = np.zeros((4, 5))\n",
    "S[np.diag_indices(4)] = S_diag\n",
    "S  # Σ"
   ]
  },
  {
   "cell_type": "code",
   "execution_count": null,
   "metadata": {
    "id": "spwvWvDvmdoY",
    "outputId": "138c81fd-187b-4fe0-ff3e-0472cb3313d8"
   },
   "outputs": [],
   "source": [
    "V"
   ]
  },
  {
   "cell_type": "code",
   "execution_count": null,
   "metadata": {
    "id": "HqEfkDCWmdoZ",
    "outputId": "ef123fda-5a19-42be-ebb3-3e2d6ff028fd"
   },
   "outputs": [],
   "source": [
    "U.dot(S).dot(V) # U.Σ.V == m4"
   ]
  },
  {
   "cell_type": "markdown",
   "metadata": {
    "id": "duvXGqUFmdoZ"
   },
   "source": [
    "## Diagonal and trace"
   ]
  },
  {
   "cell_type": "code",
   "execution_count": null,
   "metadata": {
    "id": "H3Ab-u-OmdoZ",
    "outputId": "246824ae-6222-45a8-bba2-d0adaf8e6e59"
   },
   "outputs": [],
   "source": [
    "np.diag(m3)  # the values in the diagonal of m3 (top left to bottom right)"
   ]
  },
  {
   "cell_type": "code",
   "execution_count": null,
   "metadata": {
    "id": "GDZguVaamdoZ",
    "outputId": "8ca4781d-adbc-4150-e3ef-6c1ee18a078b"
   },
   "outputs": [],
   "source": [
    "m3.trace()  # equivalent to np.diag(m3).sum()"
   ]
  },
  {
   "cell_type": "markdown",
   "metadata": {
    "id": "7NL8xmncmdoZ"
   },
   "source": [
    "## Solving a system of linear scalar equations"
   ]
  },
  {
   "cell_type": "markdown",
   "metadata": {
    "id": "wgsoWfotmdoa"
   },
   "source": [
    "The `solve` function solves a system of linear scalar equations, such as:\n",
    "\n",
    "* $2x + 6y = 6$\n",
    "* $5x + 3y = -9$"
   ]
  },
  {
   "cell_type": "code",
   "execution_count": null,
   "metadata": {
    "id": "obE9BNQRmdoa",
    "outputId": "81744a1f-b317-4e7d-9802-4f5784ddc786"
   },
   "outputs": [],
   "source": [
    "coeffs  = np.array([[2, 6], [5, 3]])\n",
    "depvars = np.array([6, -9])\n",
    "solution = linalg.solve(coeffs, depvars)\n",
    "solution"
   ]
  },
  {
   "cell_type": "markdown",
   "metadata": {
    "id": "pt5CI1m_mdoa"
   },
   "source": [
    "Let's check the solution:"
   ]
  },
  {
   "cell_type": "code",
   "execution_count": null,
   "metadata": {
    "id": "UXFMw1Iamdoa",
    "outputId": "d928dd9d-6684-4360-e6c5-aa9fc9e8ebf3"
   },
   "outputs": [],
   "source": [
    "coeffs.dot(solution), depvars  # yep, it's the same"
   ]
  },
  {
   "cell_type": "markdown",
   "metadata": {
    "id": "58D_NzYfmdoa"
   },
   "source": [
    "Looks good! Another way to check the solution:"
   ]
  },
  {
   "cell_type": "code",
   "execution_count": null,
   "metadata": {
    "id": "BiaDqp9bmdob",
    "outputId": "d9e1d4d8-f100-4685-bd40-ff1a20d2e92f",
    "scrolled": true
   },
   "outputs": [],
   "source": [
    "np.allclose(coeffs.dot(solution), depvars)"
   ]
  },
  {
   "cell_type": "markdown",
   "metadata": {
    "id": "Lnrcq_eMmdob"
   },
   "source": [
    "# Vectorization\n",
    "Instead of executing operations on individual array items, one at a time, your code is much more efficient if you try to stick to array operations. This is called *vectorization*. This way, you can benefit from NumPy's many optimizations.\n",
    "\n",
    "For example, let's say we want to generate a 768x1024 array based on the formula $sin(xy/40.5)$. A **bad** option would be to do the math in python using nested loops:"
   ]
  },
  {
   "cell_type": "code",
   "execution_count": null,
   "metadata": {
    "id": "r9cMhfhAmdob"
   },
   "outputs": [],
   "source": [
    "import math\n",
    "\n",
    "data = np.empty((768, 1024))\n",
    "for y in range(768):\n",
    "    for x in range(1024):\n",
    "        data[y, x] = math.sin(x * y / 40.5)  # BAD! Very inefficient."
   ]
  },
  {
   "cell_type": "markdown",
   "metadata": {
    "id": "QGIl-EAJmdob"
   },
   "source": [
    "Sure, this works, but it's terribly inefficient since the loops are taking place in pure python. Let's vectorize this algorithm. First, we will use NumPy's `meshgrid` function which generates coordinate matrices from coordinate vectors."
   ]
  },
  {
   "cell_type": "code",
   "execution_count": null,
   "metadata": {
    "id": "bqspkIRImdob",
    "outputId": "2fe1f624-edad-4b60-895c-dbf01f9cefb9"
   },
   "outputs": [],
   "source": [
    "x_coords = np.arange(0, 1024)  # [0, 1, 2, ..., 1023]\n",
    "y_coords = np.arange(0, 768)   # [0, 1, 2, ..., 767]\n",
    "X, Y = np.meshgrid(x_coords, y_coords)\n",
    "X"
   ]
  },
  {
   "cell_type": "code",
   "execution_count": null,
   "metadata": {
    "id": "RZyw-SBLmdoc",
    "outputId": "ec1c00d6-ce0a-47f9-80b8-96ddc5a2af00"
   },
   "outputs": [],
   "source": [
    "Y"
   ]
  },
  {
   "cell_type": "markdown",
   "metadata": {
    "id": "zCQMx0t2mdoc"
   },
   "source": [
    "As you can see, both `X` and `Y` are 768x1024 arrays, and all values in `X` correspond to the horizontal coordinate, while all values in `Y` correspond to the vertical coordinate.\n",
    "\n",
    "Now we can simply compute the result using array operations:"
   ]
  },
  {
   "cell_type": "code",
   "execution_count": null,
   "metadata": {
    "id": "qalZgTMmmdoc"
   },
   "outputs": [],
   "source": [
    "data = np.sin(X * Y / 40.5)"
   ]
  },
  {
   "cell_type": "markdown",
   "metadata": {
    "id": "sJe5jQcGmdod"
   },
   "source": [
    "Now we can plot this data using matplotlib's `imshow` function (see the [matplotlib tutorial](tools_matplotlib.ipynb))."
   ]
  },
  {
   "cell_type": "code",
   "execution_count": null,
   "metadata": {
    "id": "sykj9ccYmdod",
    "outputId": "dcbc1fd8-e509-4b80-e70d-4ab1cee36b6b"
   },
   "outputs": [],
   "source": [
    "import matplotlib.pyplot as plt\n",
    "\n",
    "fig = plt.figure(1, figsize=(7, 6))\n",
    "plt.imshow(data, cmap=\"hot\")\n",
    "plt.show()"
   ]
  },
  {
   "cell_type": "markdown",
   "metadata": {
    "id": "rULWO4XSmdod"
   },
   "source": [
    "# Saving and loading\n",
    "NumPy makes it easy to save and load `ndarray`s in binary or text format.\n",
    "\n",
    "## Binary `.npy` format\n",
    "Let's create a random array and save it."
   ]
  },
  {
   "cell_type": "code",
   "execution_count": null,
   "metadata": {
    "id": "M3d8cW8Wmdod",
    "outputId": "6d1b9a9b-931a-472d-f5c1-eb978b6f8fb8",
    "scrolled": true
   },
   "outputs": [],
   "source": [
    "a = np.random.rand(2,3)\n",
    "a"
   ]
  },
  {
   "cell_type": "code",
   "execution_count": null,
   "metadata": {
    "id": "yy6lUHX1mdoe"
   },
   "outputs": [],
   "source": [
    "np.save(\"my_array\", a)"
   ]
  },
  {
   "cell_type": "markdown",
   "metadata": {
    "id": "S34s-5-Gmdoe"
   },
   "source": [
    "Done! Since the file name contains no file extension, NumPy automatically added `.npy`. Let's take a peek at the file content:"
   ]
  },
  {
   "cell_type": "code",
   "execution_count": null,
   "metadata": {
    "id": "2o-N50YYmdoe",
    "outputId": "33122b4d-14e6-4ae7-a3ce-488924c78d79"
   },
   "outputs": [],
   "source": [
    "with open(\"my_array.npy\", \"rb\") as f:\n",
    "    content = f.read()\n",
    "\n",
    "content"
   ]
  },
  {
   "cell_type": "markdown",
   "metadata": {
    "id": "gCeQM6lfmdof"
   },
   "source": [
    "To load this file into a NumPy array, simply call `load`:"
   ]
  },
  {
   "cell_type": "code",
   "execution_count": null,
   "metadata": {
    "id": "3JVXd5Rbmdof",
    "outputId": "b3a97d5d-e988-4bcb-fc28-2807289c1c7e"
   },
   "outputs": [],
   "source": [
    "a_loaded = np.load(\"my_array.npy\")\n",
    "a_loaded"
   ]
  },
  {
   "cell_type": "markdown",
   "metadata": {
    "id": "ClKP1DGomdof"
   },
   "source": [
    "## Text format\n",
    "Let's try saving the array in text format:"
   ]
  },
  {
   "cell_type": "code",
   "execution_count": null,
   "metadata": {
    "id": "VUL-uKpomdog"
   },
   "outputs": [],
   "source": [
    "np.savetxt(\"my_array.csv\", a)"
   ]
  },
  {
   "cell_type": "markdown",
   "metadata": {
    "id": "jVlZZrfAmdog"
   },
   "source": [
    "Now let's look at the file content:"
   ]
  },
  {
   "cell_type": "code",
   "execution_count": null,
   "metadata": {
    "id": "OF9nJ1MHmdog",
    "outputId": "3aa2fe72-454e-45de-d4f6-1cd09ce4409d"
   },
   "outputs": [],
   "source": [
    "with open(\"my_array.csv\", \"rt\") as f:\n",
    "    print(f.read())"
   ]
  },
  {
   "cell_type": "markdown",
   "metadata": {
    "id": "sc6F_bDFmdoh"
   },
   "source": [
    "This is a CSV file with tabs as delimiters. You can set a different delimiter:"
   ]
  },
  {
   "cell_type": "code",
   "execution_count": null,
   "metadata": {
    "id": "zPl3nNd8mdoh"
   },
   "outputs": [],
   "source": [
    "np.savetxt(\"my_array.csv\", a, delimiter=\",\")"
   ]
  },
  {
   "cell_type": "markdown",
   "metadata": {
    "id": "zJpItFzGmdoi"
   },
   "source": [
    "To load this file, just use `loadtxt`:"
   ]
  },
  {
   "cell_type": "code",
   "execution_count": null,
   "metadata": {
    "id": "OL0Ie9tFmdoi",
    "outputId": "69bf25d0-ced7-40c1-89cb-281e9b0672d7"
   },
   "outputs": [],
   "source": [
    "a_loaded = np.loadtxt(\"my_array.csv\", delimiter=\",\")\n",
    "a_loaded"
   ]
  },
  {
   "cell_type": "markdown",
   "metadata": {
    "id": "m9gTs1wrmdoj"
   },
   "source": [
    "## Zipped `.npz` format\n",
    "It is also possible to save multiple arrays in one zipped file:"
   ]
  },
  {
   "cell_type": "code",
   "execution_count": null,
   "metadata": {
    "id": "lcgrxaVNmdoj",
    "outputId": "c085c2a9-cb68-44b2-871e-bb6b37d14274"
   },
   "outputs": [],
   "source": [
    "b = np.arange(24, dtype=np.uint8).reshape(2, 3, 4)\n",
    "b"
   ]
  },
  {
   "cell_type": "code",
   "execution_count": null,
   "metadata": {
    "id": "Bf3Ah5s6mdoj"
   },
   "outputs": [],
   "source": [
    "np.savez(\"my_arrays\", my_a=a, my_b=b)"
   ]
  },
  {
   "cell_type": "markdown",
   "metadata": {
    "id": "GhSK_WZRmdoj"
   },
   "source": [
    "Again, let's take a peek at the file content. Note that the `.npz` file extension was automatically added."
   ]
  },
  {
   "cell_type": "code",
   "execution_count": null,
   "metadata": {
    "id": "fWPCQLwQmdoj",
    "outputId": "2ed01541-43f2-45b4-cf51-65c6b5587022"
   },
   "outputs": [],
   "source": [
    "with open(\"my_arrays.npz\", \"rb\") as f:\n",
    "    content = f.read()\n",
    "\n",
    "repr(content)[:180] + \"[...]\""
   ]
  },
  {
   "cell_type": "markdown",
   "metadata": {
    "id": "GHSPWALKmdok"
   },
   "source": [
    "You then load this file like so:"
   ]
  },
  {
   "cell_type": "code",
   "execution_count": null,
   "metadata": {
    "id": "w1daoP67mdol",
    "outputId": "f1d1159c-0f29-469e-b331-b79daa8981e7"
   },
   "outputs": [],
   "source": [
    "my_arrays = np.load(\"my_arrays.npz\")\n",
    "my_arrays"
   ]
  },
  {
   "cell_type": "markdown",
   "metadata": {
    "id": "Hv82ex-9mdom"
   },
   "source": [
    "This is a dict-like object which loads the arrays lazily:"
   ]
  },
  {
   "cell_type": "code",
   "execution_count": null,
   "metadata": {
    "id": "rlMZDOZGmdon",
    "outputId": "9be04dc2-911d-4122-888f-fe662686eece"
   },
   "outputs": [],
   "source": [
    "my_arrays.keys()"
   ]
  },
  {
   "cell_type": "code",
   "execution_count": null,
   "metadata": {
    "id": "dK0RbXsBmdoo",
    "outputId": "8193bb4d-5343-4b1b-d590-19f3a4ff540e"
   },
   "outputs": [],
   "source": [
    "my_arrays[\"my_a\"]"
   ]
  },
  {
   "cell_type": "markdown",
   "metadata": {
    "id": "EfHwf5T6mdoo"
   },
   "source": [
    "# What's next?\n",
    "Now you know all the fundamentals of NumPy, but there are many more options available. The best way to learn more is to experiment with NumPy, and go through the excellent [reference documentation](https://numpy.org/doc/stable/reference/index.html) to find more functions and features you may be interested in."
   ]
  }
 ],
 "metadata": {
  "celltoolbar": "Slideshow",
  "colab": {
   "provenance": []
  },
  "kernelspec": {
   "display_name": "Python 3 (ipykernel)",
   "language": "python",
   "name": "python3"
  },
  "language_info": {
   "codemirror_mode": {
    "name": "ipython",
    "version": 3
   },
   "file_extension": ".py",
   "mimetype": "text/x-python",
   "name": "python",
   "nbconvert_exporter": "python",
   "pygments_lexer": "ipython3",
   "version": "3.9.13"
  },
  "rise": {
   "enable_chalkboard": true,
   "theme": "sky"
  },
  "toc": {
   "toc_cell": false,
   "toc_number_sections": true,
   "toc_section_display": "block",
   "toc_threshold": 6,
   "toc_window_display": false
  },
  "toc_position": {
   "height": "677px",
   "left": "1195.02px",
   "right": "20px",
   "top": "78px",
   "width": "238px"
  }
 },
 "nbformat": 4,
 "nbformat_minor": 1
}
