{
 "cells": [
  {
   "cell_type": "markdown",
   "id": "157af0d4",
   "metadata": {
    "slideshow": {
     "slide_type": "slide"
    }
   },
   "source": [
    "<table align=\"left\">\n",
    "  <td>\n",
    "    <a href=\"https://colab.research.google.com/github/marco-canas/10_pygame/blob/main/1_capitulo_instalar_pygame.ipynb\" target=\"_parent\"><img src=\"https://colab.research.google.com/assets/colab-badge.svg\" alt=\"Open In Colab\"/></a>\n",
    "  </td>\n",
    "</table>"
   ]
  },
  {
   "cell_type": "markdown",
   "id": "8057cc5d",
   "metadata": {
    "slideshow": {
     "slide_type": "slide"
    }
   },
   "source": [
    "# Matemáticas II Para el programa de Biología"
   ]
  },
  {
   "cell_type": "markdown",
   "id": "5dc28f9a",
   "metadata": {
    "slideshow": {
     "slide_type": "slide"
    }
   },
   "source": [
    "# Contenido"
   ]
  },
  {
   "cell_type": "markdown",
   "id": "d1767039",
   "metadata": {
    "slideshow": {
     "slide_type": "slide"
    }
   },
   "source": [
    "1. [Numpy](https://github.com/ageron/handson-ml3/blob/main/tools_numpy.ipynb)  \n",
    "\n",
    "2. [linear_algebra](https://github.com/ageron/handson-ml3/blob/main/math_linear_algebra.ipynb)\n",
    "\n",
    "3. [pandas](https://github.com/ageron/handson-ml3/blob/main/tools_pandas.ipynb)\n",
    "\n",
    "4. [cálculo](https://github.com/ageron/handson-ml3/blob/main/math_differential_calculus.ipynb)"
   ]
  },
  {
   "cell_type": "code",
   "execution_count": null,
   "id": "c6674d8e",
   "metadata": {
    "slideshow": {
     "slide_type": "slide"
    }
   },
   "outputs": [],
   "source": []
  },
  {
   "cell_type": "markdown",
   "id": "c3bc8674",
   "metadata": {
    "slideshow": {
     "slide_type": "slide"
    }
   },
   "source": [
    "## Metodología propuesta"
   ]
  },
  {
   "cell_type": "markdown",
   "id": "f75aafba",
   "metadata": {
    "slideshow": {
     "slide_type": "slide"
    }
   },
   "source": [
    "El modelo pedagógico que implementaremos será el de aula invertida. En el que en los encuentros de estudiantes y profesor, se presentarán problemas y su solución asociada a cada uno de los contenidos. "
   ]
  },
  {
   "cell_type": "markdown",
   "id": "fe91e428",
   "metadata": {
    "slideshow": {
     "slide_type": "slide"
    }
   },
   "source": []
  },
  {
   "cell_type": "code",
   "execution_count": null,
   "id": "3ca116ff",
   "metadata": {
    "slideshow": {
     "slide_type": "slide"
    }
   },
   "outputs": [],
   "source": []
  }
 ],
 "metadata": {
  "celltoolbar": "Slideshow",
  "kernelspec": {
   "display_name": "Python 3 (ipykernel)",
   "language": "python",
   "name": "python3"
  },
  "language_info": {
   "codemirror_mode": {
    "name": "ipython",
    "version": 3
   },
   "file_extension": ".py",
   "mimetype": "text/x-python",
   "name": "python",
   "nbconvert_exporter": "python",
   "pygments_lexer": "ipython3",
   "version": "3.9.13"
  },
  "rise": {
   "enable_chalkboard": true,
   "theme": "sky",
   "transition": "zoom"
  }
 },
 "nbformat": 4,
 "nbformat_minor": 5
}
